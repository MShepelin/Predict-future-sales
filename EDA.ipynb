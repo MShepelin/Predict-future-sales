{
 "cells": [
  {
   "cell_type": "markdown",
   "metadata": {},
   "source": [
    "# EDA\n",
    "- First look on data\n",
    "- Experiments and research\n",
    "- Interactive cells\n",
    "- Markdown comments\n",
    "- Mistakes are not crusial\n",
    "- No test submission"
   ]
  },
  {
   "cell_type": "code",
   "execution_count": 57,
   "metadata": {},
   "outputs": [],
   "source": [
    "# Modules import\n",
    "from importlib import reload\n",
    "\n",
    "import pandas as pd\n",
    "import numpy as np\n",
    "import matplotlib.pyplot as plt\n",
    "import seaborn as sns\n",
    "\n",
    "from sklearn.model_selection import KFold\n",
    "from sklearn import linear_model, metrics, preprocessing\n",
    "\n",
    "# All special functions are written in support module\n",
    "import support\n",
    "\n",
    "# Settings\n",
    "pd.set_option('display.max_rows', 200)\n",
    "pd.set_option('display.max_columns', 100)\n",
    "sns.set(style=\"white\")"
   ]
  },
  {
   "cell_type": "code",
   "execution_count": 58,
   "metadata": {
    "scrolled": false
   },
   "outputs": [
    {
     "name": "stdout",
     "output_type": "stream",
     "text": [
      "Support Reloaded\n"
     ]
    }
   ],
   "source": [
    "reload(support)\n",
    "print('Support Reloaded')"
   ]
  },
  {
   "cell_type": "code",
   "execution_count": 59,
   "metadata": {},
   "outputs": [],
   "source": [
    "# Import data (we will immideatly merge some informaton together)\n",
    "items              = pd.read_csv('./readonly/items.csv').set_index('item_id')\n",
    "sales_train        = pd.read_csv('./readonly/sales_train.csv')\n",
    "test               = pd.read_csv('./readonly/test.csv').join(items['item_category_id'], on='item_id').drop('ID', axis=1)\n",
    "item_categories    = pd.read_csv('./readonly/item_categories.csv').set_index('item_category_id')\n",
    "shops              = pd.read_csv('./readonly/shops.csv').set_index('shop_id')\n",
    "\n",
    "assert not test['item_category_id'].isna().any()"
   ]
  },
  {
   "cell_type": "code",
   "execution_count": 60,
   "metadata": {},
   "outputs": [],
   "source": [
    "# Checkpoint\n",
    "data_origin = sales_train.copy()\n",
    "test_origin = test.copy()"
   ]
  },
  {
   "cell_type": "markdown",
   "metadata": {},
   "source": [
    "# -1. Overview"
   ]
  },
  {
   "cell_type": "markdown",
   "metadata": {},
   "source": [
    "\"date\" is very important feature, but we won't look at it in this solution"
   ]
  },
  {
   "cell_type": "code",
   "execution_count": 61,
   "metadata": {},
   "outputs": [],
   "source": [
    "sales_train.drop('date', axis=1, inplace=True)"
   ]
  },
  {
   "cell_type": "markdown",
   "metadata": {},
   "source": [
    "Some shops have different IDs but equal names, let's fix this mistake"
   ]
  },
  {
   "cell_type": "code",
   "execution_count": 62,
   "metadata": {},
   "outputs": [],
   "source": [
    "for pair in [(0, 57), (1, 58), (10, 11)]:\n",
    "    sales_train.loc[(sales_train['shop_id'] == pair[0]), 'shop_id'] = pair[1]\n",
    "    shops.drop(pair[0], inplace=True)"
   ]
  },
  {
   "cell_type": "markdown",
   "metadata": {},
   "source": [
    "Check if all shops are open for the whole period"
   ]
  },
  {
   "cell_type": "code",
   "execution_count": 63,
   "metadata": {},
   "outputs": [],
   "source": [
    "assert sales_train['shop_id'].nunique() == shops.shape[0]"
   ]
  },
  {
   "cell_type": "code",
   "execution_count": 64,
   "metadata": {
    "scrolled": false
   },
   "outputs": [
    {
     "name": "stdout",
     "output_type": "stream",
     "text": [
      "45, 46, 46, 46, 45, 46, 46, 45, 45, 46, 45, 46, 46, 46, 48, 49, 49, 49, 50, 51, 50, 52, 50, 50, 50, 47, 46, 47, 44, 43, 43, 42, 43, 44, "
     ]
    }
   ],
   "source": [
    "for block in range(34):\n",
    "    print(sales_train[sales_train['date_block_num'] == block]['shop_id'].nunique(), end=', ')"
   ]
  },
  {
   "cell_type": "markdown",
   "metadata": {},
   "source": [
    "Search for anything specific in test data"
   ]
  },
  {
   "cell_type": "code",
   "execution_count": 65,
   "metadata": {},
   "outputs": [],
   "source": [
    "# to-do"
   ]
  },
  {
   "cell_type": "markdown",
   "metadata": {},
   "source": [
    "# 0. NaNs"
   ]
  },
  {
   "cell_type": "code",
   "execution_count": 66,
   "metadata": {},
   "outputs": [
    {
     "data": {
      "text/plain": [
       "date_block_num    False\n",
       "shop_id           False\n",
       "item_id           False\n",
       "item_price        False\n",
       "item_cnt_day      False\n",
       "dtype: bool"
      ]
     },
     "execution_count": 66,
     "metadata": {},
     "output_type": "execute_result"
    }
   ],
   "source": [
    "sales_train.isna().any()"
   ]
  },
  {
   "cell_type": "markdown",
   "metadata": {},
   "source": [
    "# 1.Outliers\n",
    "## 1.1 Every day sales\n",
    "Lets consider what is hapenning with the value, which forms our target value. First idea is to watch a destribution plot and understand what happens with outliers."
   ]
  },
  {
   "cell_type": "code",
   "execution_count": 67,
   "metadata": {
    "scrolled": false
   },
   "outputs": [
    {
     "data": {
      "image/png": "[encoded data removed]",
      "text/plain": [
       "<Figure size 1440x360 with 1 Axes>"
      ]
     },
     "metadata": {},
     "output_type": "display_data"
    }
   ],
   "source": [
    "fig = plt.figure(figsize=(20, 5))\n",
    "sns.boxplot(sales_train['item_cnt_day'])\n",
    "plt.show()"
   ]
  },
  {
   "cell_type": "code",
   "execution_count": 68,
   "metadata": {
    "scrolled": true
   },
   "outputs": [
    {
     "data": {
      "text/html": [
       "<div>\n",
       "<style scoped>\n",
       "    .dataframe tbody tr th:only-of-type {\n",
       "        vertical-align: middle;\n",
       "    }\n",
       "\n",
       "    .dataframe tbody tr th {\n",
       "        vertical-align: top;\n",
       "    }\n",
       "\n",
       "    .dataframe thead th {\n",
       "        text-align: right;\n",
       "    }\n",
       "</style>\n",
       "<table border=\"1\" class=\"dataframe\">\n",
       "  <thead>\n",
       "    <tr style=\"text-align: right;\">\n",
       "      <th></th>\n",
       "      <th>date_block_num</th>\n",
       "      <th>shop_id</th>\n",
       "      <th>item_id</th>\n",
       "      <th>item_price</th>\n",
       "      <th>item_cnt_day</th>\n",
       "    </tr>\n",
       "  </thead>\n",
       "  <tbody>\n",
       "    <tr>\n",
       "      <th>2326930</th>\n",
       "      <td>24</td>\n",
       "      <td>12</td>\n",
       "      <td>20949</td>\n",
       "      <td>4.000000</td>\n",
       "      <td>1000.0</td>\n",
       "    </tr>\n",
       "    <tr>\n",
       "      <th>2909818</th>\n",
       "      <td>33</td>\n",
       "      <td>12</td>\n",
       "      <td>11373</td>\n",
       "      <td>0.908714</td>\n",
       "      <td>2169.0</td>\n",
       "    </tr>\n",
       "  </tbody>\n",
       "</table>\n",
       "</div>"
      ],
      "text/plain": [
       "         date_block_num  shop_id  item_id  item_price  item_cnt_day\n",
       "2326930              24       12    20949    4.000000        1000.0\n",
       "2909818              33       12    11373    0.908714        2169.0"
      ]
     },
     "execution_count": 68,
     "metadata": {},
     "output_type": "execute_result"
    }
   ],
   "source": [
    "sales_train[sales_train['item_cnt_day'] > 700]"
   ]
  },
  {
   "cell_type": "code",
   "execution_count": 69,
   "metadata": {
    "scrolled": true
   },
   "outputs": [
    {
     "data": {
      "text/plain": [
       "item_id\n",
       "11373                 Доставка до пункта выдачи (Boxberry)\n",
       "20949    Фирменный пакет майка 1С Интерес белый (34*42)...\n",
       "Name: item_name, dtype: object"
      ]
     },
     "execution_count": 69,
     "metadata": {},
     "output_type": "execute_result"
    }
   ],
   "source": [
    "items.loc[[11373, 20949]]['item_name']"
   ]
  },
  {
   "cell_type": "code",
   "execution_count": 70,
   "metadata": {},
   "outputs": [
    {
     "data": {
      "text/plain": [
       "(5.987300574345884, 14.144396551724139)"
      ]
     },
     "execution_count": 70,
     "metadata": {},
     "output_type": "execute_result"
    }
   ],
   "source": [
    "sales_train[sales_train['item_id'] == 20949]['item_cnt_day'].mean(),\\\n",
    "    sales_train[sales_train['item_id'] == 11373]['item_cnt_day'].mean()"
   ]
  },
  {
   "cell_type": "markdown",
   "metadata": {},
   "source": [
    "So, both values are anomalies"
   ]
  },
  {
   "cell_type": "code",
   "execution_count": 71,
   "metadata": {},
   "outputs": [],
   "source": [
    "sales_train = sales_train[sales_train['item_cnt_day'] <= 700]"
   ]
  },
  {
   "cell_type": "markdown",
   "metadata": {},
   "source": [
    "According to the destribution there are sertain outliers. Let's dig into them and try to find any trends. We will separate whole dataset into 3 groups: negative values, \"proper\", \"improper\". ***nI*** (number of inclusions) is chosen as a parameter of separation by \"item_cnt_day\" as there are few unique values this column."
   ]
  },
  {
   "cell_type": "code",
   "execution_count": 72,
   "metadata": {},
   "outputs": [
    {
     "name": "stdout",
     "output_type": "stream",
     "text": [
      "54 from 57 shops have mistakes with negative values\n",
      "No shops have mistakes in more than 1.5 % of records\n",
      "shops with ids 12 have mistakes in more than 1.0 % of records\n",
      "shops with ids 12 36 43 have mistakes in more than 0.5 % of records\n"
     ]
    }
   ],
   "source": [
    "# Separate rows with negative values\n",
    "negative_rows = sales_train[sales_train['item_cnt_day'] < 0]\n",
    "\n",
    "# Check if some sertain shops have tendency for mistakes\n",
    "print(len(negative_rows['shop_id'].unique()), \"from\", len(shops.index), \"shops have mistakes with negative values\")\n",
    "\n",
    "for mistakes_threshold in [0.015, 0.01, 0.005]:\n",
    "    many_mistakes = sales_train.groupby('shop_id').size().loc[\n",
    "        negative_rows.groupby('shop_id').size() / sales_train.groupby('shop_id').size() > mistakes_threshold].index\n",
    "\n",
    "    if (many_mistakes.size == 0):\n",
    "        print(\"No shops have mistakes in more than\", mistakes_threshold*100, \"% of records\")\n",
    "    else:\n",
    "        print(\"shops with ids\", *many_mistakes, \"have mistakes in more than\", mistakes_threshold*100, \"% of records\")"
   ]
  },
  {
   "cell_type": "markdown",
   "metadata": {},
   "source": [
    "Two possible solutions can be seen: include this negatives as values with the right sign or not to include them at all. Let's try the first approach."
   ]
  },
  {
   "cell_type": "code",
   "execution_count": 73,
   "metadata": {
    "scrolled": true
   },
   "outputs": [],
   "source": [
    "# Apply \"abs\" function\n",
    "sales_train.loc[:, 'item_cnt_day'] = sales_train['item_cnt_day'].apply(abs)"
   ]
  },
  {
   "cell_type": "markdown",
   "metadata": {},
   "source": [
    "What about positive outliers?"
   ]
  },
  {
   "cell_type": "code",
   "execution_count": 74,
   "metadata": {},
   "outputs": [],
   "source": [
    "# Let \"counts\" be a table in which every unique value of \"item_cnt_day\" column has a it's nI in data.\n",
    "# Then let's take the i-th maximum nI and separate values of \"count\" table by this threshold.\n",
    "# \"proper_sales\" dataframe will only include rows with \"item_cnt_day\" values, which nI is not less then threshold\n",
    "i = 6\n",
    "\n",
    "counts = sales_train['item_cnt_day'].value_counts().sort_values(ascending=False)\n",
    "unique_counts_values = counts.unique()\n",
    "threshold = unique_counts_values[min(i - 1, len(unique_counts_values) - 1)]\n",
    "\n",
    "proper_values = counts[counts >= threshold].index\n",
    "proper_sales = sales_train[sales_train['item_cnt_day'].isin(proper_values)]\n",
    "\n",
    "improper_sales = sales_train.drop(proper_sales.index)\n",
    "\n",
    "assert proper_sales.shape[0] + improper_sales.shape[0] == sales_train.shape[0], \"Wrong sizes\""
   ]
  },
  {
   "cell_type": "code",
   "execution_count": 75,
   "metadata": {
    "scrolled": true
   },
   "outputs": [
    {
     "name": "stdout",
     "output_type": "stream",
     "text": [
      "\"proper\" part of data consist of rows with values 1.0 2.0 3.0 4.0 5.0 6.0\n"
     ]
    }
   ],
   "source": [
    "print(\"\\\"proper\\\" part of data consist of rows with values\", *proper_sales['item_cnt_day'].sort_values().unique())"
   ]
  },
  {
   "cell_type": "code",
   "execution_count": 76,
   "metadata": {
    "scrolled": false
   },
   "outputs": [
    {
     "name": "stdout",
     "output_type": "stream",
     "text": [
      "From top 10 items by inclusions in \"improper\" items meet in \"test\" part of data:\n",
      "20949 (7961 inclusions) - Подарки - Сумки, Альбомы, Коврики д/мыши - Фирменный пакет майка 1С Интерес белый (34*42) 45 мкм\n",
      "2808 (338 inclusions) - Игры PC - Стандартные издания - Diablo III [PC, Jewel, русская версия]\n",
      "3732 (310 inclusions) - Игры - PS3 - Grand Theft Auto V [PS3, русские субтитры]\n",
      "11370 (257 inclusions) - Доставка товара - Доставка (по Москве)\n",
      "3731 (226 inclusions) - Игры PC - Стандартные издания - Grand Theft Auto V [PC, русские субтитры]\n",
      "3734 (212 inclusions) - Игры - XBOX 360 - Grand Theft Auto V [Xbox 360, русские субтитры]\n",
      "3331 (181 inclusions) - Игры PC - Стандартные издания - FIFA 14 [PC, русская версия]\n",
      "6675 (178 inclusions) - Игровые консоли - PS4 - Sony PlayStation 4 (500 Gb) Black (CUH-1008A/1108A/B01)\n"
     ]
    }
   ],
   "source": [
    "topn = 10\n",
    "print('From top', topn, 'items by inclusions in \\\"improper\\\" items meet in \\\"test\\\" part of data:')\n",
    "for i in improper_sales['item_id'].value_counts().sort_values(ascending=False).index[:topn]:\n",
    "    if i in test['item_id'].unique():\n",
    "        print(i, ' (', improper_sales['item_id'].value_counts().sort_values(ascending=False)[i], ' inclusions) - ',\n",
    "              item_categories.loc[items.loc[i]['item_category_id']]['item_category_name'], ' - ',\n",
    "              items.loc[i]['item_name'],\n",
    "              sep='')"
   ]
  },
  {
   "cell_type": "markdown",
   "metadata": {},
   "source": [
    "What can we see is the separation between products: games and 1C's special gifts are popular and can be bought many times per day. Let's see month's graphics of sales for some items to understand if there is a trend or games are bought many times only on release."
   ]
  },
  {
   "cell_type": "code",
   "execution_count": 77,
   "metadata": {
    "scrolled": false
   },
   "outputs": [
    {
     "data": {
      "image/png": "[encoded data removed]",
      "text/plain": [
       "<Figure size 1296x720 with 4 Axes>"
      ]
     },
     "metadata": {},
     "output_type": "display_data"
    }
   ],
   "source": [
    "# Choose come interesting items\n",
    "consider_items = [20949, 2808, 3734, 17717]\n",
    "\n",
    "plt.subplots(len(consider_items) // 2, 2, figsize=(18, 5*len(consider_items) // 2))\n",
    "subplot_id = 1\n",
    "\n",
    "for item_id in consider_items:\n",
    "    plt.subplot(len(consider_items) / 2, 2, subplot_id)\n",
    "    subplot_id += 1\n",
    "    plt.title(items.loc[item_id]['item_name'])\n",
    "    plt.plot(sales_train[sales_train['item_id'] == item_id].groupby('date_block_num')['item_cnt_day'].sum())"
   ]
  },
  {
   "cell_type": "markdown",
   "metadata": {},
   "source": [
    "As we can see, sales of games drop rapidly after release. Let's check if any new games are going to release in 34-th month."
   ]
  },
  {
   "cell_type": "code",
   "execution_count": 78,
   "metadata": {},
   "outputs": [
    {
     "name": "stdout",
     "output_type": "stream",
     "text": [
      "1722 rows in test will probably be big releases\n"
     ]
    }
   ],
   "source": [
    "# Let's find new games (index are found in \"item_categories\")\n",
    "new_releases_categories = [19, 20, 23, 24, 29, 30]\n",
    "test_items_not_met_in_train = test[test['item_id'].isin(sales_train['item_id'].unique()) == False]\n",
    "print(len(test_items_not_met_in_train[test_items_not_met_in_train['item_category_id'].isin(new_releases_categories)]), \n",
    "      'rows in test will probably be big releases')"
   ]
  },
  {
   "cell_type": "markdown",
   "metadata": {},
   "source": [
    "**In conclusion**, \\\n",
    "1) we will include outliers to calculate \"target\" value \\\n",
    "2) our model must be robust to meeting with new items \\\n",
    "3) we should include more info about category, for example, how does \"target\" look on release \\\n",
    "4) story of an item must be included: how many month is it in sales and so on (we should also form our train data with this factor in mind)"
   ]
  },
  {
   "cell_type": "markdown",
   "metadata": {},
   "source": [
    "## 1.2 Prices\n",
    "First check is to find if prices change from time to time"
   ]
  },
  {
   "cell_type": "code",
   "execution_count": 79,
   "metadata": {
    "scrolled": false
   },
   "outputs": [
    {
     "data": {
      "text/plain": [
       "False    2511461\n",
       "True      424386\n",
       "Name: has_changes, dtype: int64"
      ]
     },
     "execution_count": 79,
     "metadata": {},
     "output_type": "execute_result"
    }
   ],
   "source": [
    "support.has_changes_column(sales_train, ['date_block_num', 'shop_id', 'item_id'], 'item_price').value_counts()"
   ]
  },
  {
   "cell_type": "markdown",
   "metadata": {},
   "source": [
    "Then let's take a look on destribution"
   ]
  },
  {
   "cell_type": "code",
   "execution_count": 80,
   "metadata": {
    "scrolled": false
   },
   "outputs": [
    {
     "data": {
      "image/png": "[encoded data removed]",
      "text/plain": [
       "<Figure size 1440x360 with 1 Axes>"
      ]
     },
     "metadata": {},
     "output_type": "display_data"
    }
   ],
   "source": [
    "fig = plt.figure(figsize=(20, 5))\n",
    "sns.boxplot(sales_train['item_price'])\n",
    "plt.show()"
   ]
  },
  {
   "cell_type": "markdown",
   "metadata": {},
   "source": [
    "We can't use the same reasoning as before, because it's usual that most of items are bought at a low price."
   ]
  },
  {
   "cell_type": "code",
   "execution_count": 81,
   "metadata": {
    "scrolled": true
   },
   "outputs": [
    {
     "name": "stdout",
     "output_type": "stream",
     "text": [
      "1 rows in data have negative values\n"
     ]
    }
   ],
   "source": [
    "print(len(sales_train[sales_train['item_price'] <= 0]), \"rows in data have negative values\")"
   ]
  },
  {
   "cell_type": "code",
   "execution_count": 82,
   "metadata": {},
   "outputs": [
    {
     "data": {
      "text/html": [
       "<div>\n",
       "<style scoped>\n",
       "    .dataframe tbody tr th:only-of-type {\n",
       "        vertical-align: middle;\n",
       "    }\n",
       "\n",
       "    .dataframe tbody tr th {\n",
       "        vertical-align: top;\n",
       "    }\n",
       "\n",
       "    .dataframe thead th {\n",
       "        text-align: right;\n",
       "    }\n",
       "</style>\n",
       "<table border=\"1\" class=\"dataframe\">\n",
       "  <thead>\n",
       "    <tr style=\"text-align: right;\">\n",
       "      <th></th>\n",
       "      <th>date_block_num</th>\n",
       "      <th>shop_id</th>\n",
       "      <th>item_id</th>\n",
       "      <th>item_price</th>\n",
       "      <th>item_cnt_day</th>\n",
       "    </tr>\n",
       "  </thead>\n",
       "  <tbody>\n",
       "    <tr>\n",
       "      <th>484683</th>\n",
       "      <td>4</td>\n",
       "      <td>32</td>\n",
       "      <td>2973</td>\n",
       "      <td>-1.0</td>\n",
       "      <td>1.0</td>\n",
       "    </tr>\n",
       "  </tbody>\n",
       "</table>\n",
       "</div>"
      ],
      "text/plain": [
       "        date_block_num  shop_id  item_id  item_price  item_cnt_day\n",
       "484683               4       32     2973        -1.0           1.0"
      ]
     },
     "execution_count": 82,
     "metadata": {},
     "output_type": "execute_result"
    }
   ],
   "source": [
    "sales_train[sales_train['item_price'] <= 0]"
   ]
  },
  {
   "cell_type": "code",
   "execution_count": 83,
   "metadata": {
    "scrolled": true
   },
   "outputs": [
    {
     "data": {
      "text/plain": [
       "item_name           DmC Devil May Cry [PS3, русские субтитры]\n",
       "item_category_id                                           19\n",
       "Name: 2973, dtype: object"
      ]
     },
     "execution_count": 83,
     "metadata": {},
     "output_type": "execute_result"
    }
   ],
   "source": [
    "items.loc[2973]"
   ]
  },
  {
   "cell_type": "markdown",
   "metadata": {},
   "source": [
    "It is a game and as we already discussed this product has specific dinamic in sales, so let's drop it."
   ]
  },
  {
   "cell_type": "code",
   "execution_count": 84,
   "metadata": {},
   "outputs": [],
   "source": [
    "sales_train = sales_train[sales_train['item_price'] > 0]"
   ]
  },
  {
   "cell_type": "code",
   "execution_count": 85,
   "metadata": {},
   "outputs": [
    {
     "data": {
      "text/plain": [
       "<matplotlib.axes._subplots.AxesSubplot at 0x25e8e461e48>"
      ]
     },
     "execution_count": 85,
     "metadata": {},
     "output_type": "execute_result"
    },
    {
     "data": {
      "image/png": "[encoded data removed]",
      "text/plain": [
       "<Figure size 432x288 with 1 Axes>"
      ]
     },
     "metadata": {},
     "output_type": "display_data"
    }
   ],
   "source": [
    "sns.boxplot(sales_train['item_price'])"
   ]
  },
  {
   "cell_type": "code",
   "execution_count": 92,
   "metadata": {
    "scrolled": false
   },
   "outputs": [
    {
     "name": "stdout",
     "output_type": "stream",
     "text": [
      "Top 5 items by price they were sold are:\n"
     ]
    },
    {
     "data": {
      "text/html": [
       "<div>\n",
       "<style scoped>\n",
       "    .dataframe tbody tr th:only-of-type {\n",
       "        vertical-align: middle;\n",
       "    }\n",
       "\n",
       "    .dataframe tbody tr th {\n",
       "        vertical-align: top;\n",
       "    }\n",
       "\n",
       "    .dataframe thead th {\n",
       "        text-align: right;\n",
       "    }\n",
       "</style>\n",
       "<table border=\"1\" class=\"dataframe\">\n",
       "  <thead>\n",
       "    <tr style=\"text-align: right;\">\n",
       "      <th></th>\n",
       "      <th>item_id</th>\n",
       "      <th>item_price</th>\n",
       "      <th>item_name</th>\n",
       "    </tr>\n",
       "  </thead>\n",
       "  <tbody>\n",
       "    <tr>\n",
       "      <th>1163158</th>\n",
       "      <td>6066</td>\n",
       "      <td>307980.0</td>\n",
       "      <td>Radmin 3  - 522 лиц.</td>\n",
       "    </tr>\n",
       "    <tr>\n",
       "      <th>885138</th>\n",
       "      <td>11365</td>\n",
       "      <td>59200.0</td>\n",
       "      <td>Доставка (EMS)</td>\n",
       "    </tr>\n",
       "    <tr>\n",
       "      <th>1488135</th>\n",
       "      <td>13199</td>\n",
       "      <td>50999.0</td>\n",
       "      <td>Коллекционные шахматы (Властелин Колец)</td>\n",
       "    </tr>\n",
       "    <tr>\n",
       "      <th>2327159</th>\n",
       "      <td>7241</td>\n",
       "      <td>49782.0</td>\n",
       "      <td>UserGate Proxy &amp; Firewall 6.X с модулем фильтр...</td>\n",
       "    </tr>\n",
       "    <tr>\n",
       "      <th>2910156</th>\n",
       "      <td>13403</td>\n",
       "      <td>42990.0</td>\n",
       "      <td>Комплект \"Microsoft Xbox One 1TB  Limited Edit...</td>\n",
       "    </tr>\n",
       "  </tbody>\n",
       "</table>\n",
       "</div>"
      ],
      "text/plain": [
       "         item_id  item_price  \\\n",
       "1163158     6066    307980.0   \n",
       "885138     11365     59200.0   \n",
       "1488135    13199     50999.0   \n",
       "2327159     7241     49782.0   \n",
       "2910156    13403     42990.0   \n",
       "\n",
       "                                                 item_name  \n",
       "1163158                               Radmin 3  - 522 лиц.  \n",
       "885138                                      Доставка (EMS)  \n",
       "1488135            Коллекционные шахматы (Властелин Колец)  \n",
       "2327159  UserGate Proxy & Firewall 6.X с модулем фильтр...  \n",
       "2910156  Комплект \"Microsoft Xbox One 1TB  Limited Edit...  "
      ]
     },
     "execution_count": 92,
     "metadata": {},
     "output_type": "execute_result"
    }
   ],
   "source": [
    "whis = 1.5\n",
    "IQR = sales_train['item_price'].quantile(0.75) - sales_train['item_price'].quantile(0.25)\n",
    "outliers = sales_train[sales_train['item_price'] > sales_train['item_price'].quantile(0.75) + IQR*whis]\n",
    "\n",
    "topn = 5\n",
    "print(\"Top\", topn, \"items by price they were sold are:\")\n",
    "topn_outliers = outliers.sort_values('item_price', ascending=False)[:topn].join(\n",
    "    items.drop('item_category_id', axis=1), on='item_id')[['item_id', 'item_price', 'item_name']]\n",
    "topn_outliers"
   ]
  },
  {
   "cell_type": "code",
   "execution_count": 97,
   "metadata": {},
   "outputs": [
    {
     "data": {
      "text/plain": [
       "885138     False\n",
       "1163158     True\n",
       "1488135     True\n",
       "2327159     True\n",
       "Name: item_id, dtype: bool"
      ]
     },
     "execution_count": 97,
     "metadata": {},
     "output_type": "execute_result"
    }
   ],
   "source": [
    "(outliers[outliers['item_price'] >= 45000]['item_id'].isin(test['item_id'].unique()) == False)"
   ]
  },
  {
   "cell_type": "code",
   "execution_count": 94,
   "metadata": {},
   "outputs": [
    {
     "data": {
      "text/plain": [
       "37          True\n",
       "38          True\n",
       "158         True\n",
       "159         True\n",
       "160        False\n",
       "           ...  \n",
       "2935782    False\n",
       "2935802     True\n",
       "2935804     True\n",
       "2935813     True\n",
       "2935822     True\n",
       "Name: item_id, Length: 258942, dtype: bool"
      ]
     },
     "execution_count": 94,
     "metadata": {},
     "output_type": "execute_result"
    }
   ],
   "source": [
    "(outliers['item_id'])"
   ]
  },
  {
   "cell_type": "markdown",
   "metadata": {},
   "source": [
    "Let's dig just a bit in what is happening. For instance, Radmin 3 is a software for remote support, system administartion and so on and it is not an coincidence that 522 copies of it cost so much. It is an outlier. Let's drop such items which don't meet in \"test\" and have price more then sertain treshold. **Note**: we shouldn't do this in case of tree-based models, because they can use it properly."
   ]
  },
  {
   "cell_type": "code",
   "execution_count": 102,
   "metadata": {},
   "outputs": [],
   "source": [
    "outliers = outliers[(outliers['item_id'].isin(test['item_id'].unique()) == False) &\n",
    "                   (outliers['item_price'] >= 45000)]\n",
    "\n",
    "indexes = outliers.index\n",
    "sales_train.drop(indexes, inplace=True)"
   ]
  },
  {
   "cell_type": "markdown",
   "metadata": {},
   "source": [
    "# 2 Features\n",
    "## 2.1 Additional data\n",
    "Zero day sales will be very important as they can show the lack of demand."
   ]
  },
  {
   "cell_type": "code",
   "execution_count": 31,
   "metadata": {},
   "outputs": [],
   "source": [
    "# Save them for the further operations\n",
    "item_mean_prices = sales_train.groupby('item_id')['item_price'].mean()\n",
    "item_mean_prices.name = 'item_mean_prices'\n",
    "shop_mean_prices = sales_train.groupby('shop_id')['item_price'].mean()\n",
    "shop_mean_prices.name = 'shop_mean_prices'"
   ]
  },
  {
   "cell_type": "code",
   "execution_count": 32,
   "metadata": {},
   "outputs": [],
   "source": [
    "# Gather random records with 0 sales\n",
    "sample_size = 200\n",
    "\n",
    "unique_shops = sales_train['shop_id'].unique()\n",
    "unique_items = sales_train['item_id'].unique()\n",
    "zeroes_addiction = []\n",
    "\n",
    "for shop_id in unique_shops:\n",
    "    for date_block_num in range(34):\n",
    "        for item in np.random.choice(unique_items, sample_size, replace=False):\n",
    "            zeroes_addiction.append([date_block_num, shop_id, 0, item, 0])"
   ]
  },
  {
   "cell_type": "markdown",
   "metadata": {},
   "source": [
    "## 2.2 Sales' story\n",
    "We should include information about previous sales and revenue (because prices are not constant)."
   ]
  },
  {
   "cell_type": "code",
   "execution_count": 33,
   "metadata": {},
   "outputs": [],
   "source": [
    "# Checkpoint\n",
    "sales_train_copy = sales_train.copy()"
   ]
  },
  {
   "cell_type": "code",
   "execution_count": 34,
   "metadata": {},
   "outputs": [],
   "source": [
    "# We are going to add rows with zero \"item_cnt_day\"\n",
    "sales_train = sales_train_copy.copy()\n",
    "\n",
    "# Calculate revenue\n",
    "sales_train = sales_train.append(pd.DataFrame(zeroes_addiction, columns=sales_train.columns))\n",
    "sales_train['revenue'] = sales_train['item_price'] * sales_train['item_cnt_day']\n",
    "sales_train.drop('item_price', axis=1, inplace=True)\n",
    "\n",
    "# Sum up day sales for each month\n",
    "train_groupped = sales_train.groupby(['date_block_num', 'shop_id', 'item_id'])[['item_cnt_day', 'revenue']].sum().reset_index()\n",
    "train_groupped.rename(columns={'item_cnt_day': 'target'}, inplace=True)\n",
    "train_groupped.loc[:, 'target'].clip(0, 20, inplace=True)"
   ]
  },
  {
   "cell_type": "markdown",
   "metadata": {},
   "source": [
    "Let's mention, that it is essential to erase those date block, which we don't have history for. Of course, some of products can appear in the middle of dataset, but at least their story can show this fact."
   ]
  },
  {
   "cell_type": "code",
   "execution_count": 35,
   "metadata": {},
   "outputs": [],
   "source": [
    "# Attention: calculations may take some time\n",
    "# Columns to be mentioned in story features\n",
    "lag_columns = ['target', 'revenue']\n",
    "nan_fill = {'target' : 0, 'revenue' : 0}\n",
    "\n",
    "# Length of story of sales\n",
    "story_len = 10\n",
    "\n",
    "# Columns in respect to which further merges should be done\n",
    "index_columns = ['date_block_num', 'shop_id', 'item_id']\n",
    "\n",
    "# Cycle through length\n",
    "for k in range(1, story_len + 1):\n",
    "    gr_copy = train_groupped[lag_columns + index_columns].copy()\n",
    "    \n",
    "    # Merging is done with use of lagging previous records\n",
    "    gr_copy.loc[:, 'date_block_num'] += k\n",
    "    for column in lag_columns:\n",
    "        gr_copy.rename(columns={column : column + '_lag_{}'.format(k)}, \n",
    "                      inplace=True)\n",
    "        \n",
    "    # Merge and deal fill NaNs\n",
    "    train_groupped = pd.merge(train_groupped, gr_copy, on=index_columns, how='left')\n",
    "    for column in lag_columns:\n",
    "        train_groupped.fillna({column + '_lag_{}'.format(k) : nan_fill[column]}, inplace=True)\n",
    "        \n",
    "# As \"date_block_num\" starts with block 0, we have story records for all date blocks after \"story_len\"\n",
    "train_groupped = train_groupped[train_groupped['date_block_num'] >= story_len]"
   ]
  },
  {
   "cell_type": "code",
   "execution_count": 36,
   "metadata": {
    "scrolled": true
   },
   "outputs": [],
   "source": [
    "# Check if there are any columns full of zeroes\n",
    "assert not (train_groupped == 0).all().any()\n",
    "\n",
    "# Add categories\n",
    "train_groupped = train_groupped.join(items['item_category_id'], on='item_id')"
   ]
  },
  {
   "cell_type": "markdown",
   "metadata": {},
   "source": [
    "## 2.2 Categorical data\n",
    "Categories are very important, because they can give us an understanding of sales' behaviour during time. Some items can sell all the time without any fluctuations, others (like games) have most of sales in start. In this case these supervised and unsupervised methods are useful to encode information about categories as nominal data:\\\n",
    "1) One hot encoding \\\n",
    "2) Target mean encoding \\\n",
    "3) Frequency encoding "
   ]
  },
  {
   "cell_type": "code",
   "execution_count": 37,
   "metadata": {},
   "outputs": [],
   "source": [
    "# Checkpoint\n",
    "train_save = train_groupped.copy()"
   ]
  },
  {
   "cell_type": "code",
   "execution_count": 38,
   "metadata": {
    "scrolled": false
   },
   "outputs": [],
   "source": [
    "category_columns = ['shop_id', 'item_id', 'item_category_id']\n",
    "\n",
    "# There will be mistakes because of \"join\" usage if don't use checkpoint\n",
    "train_groupped = train_save.copy()\n",
    "\n",
    "# One Hot\n",
    "train_groupped = train_groupped.join(pd.get_dummies(train_groupped['item_category_id'], prefix='category'))\n",
    "\n",
    "# On validation another scheme should be used!\n",
    "for category_column in category_columns:\n",
    "    # Count mean values\n",
    "    sample = train_groupped.groupby(category_column)[['target']].mean()\n",
    "    sample.rename(columns={'target' : category_column + '_target_mean'}, inplace=True)\n",
    "    \n",
    "    # Mean encoding join\n",
    "    train_groupped = train_groupped.join(sample[category_column + '_target_mean'], on=category_column)\n",
    "    \n",
    "    # Frequency encoding\n",
    "    sample = train_groupped.groupby(category_column).size()/len(train_groupped)\n",
    "    sample.name = category_column + '_freq'\n",
    "    \n",
    "    train_groupped = train_groupped.join(sample, on=category_column)"
   ]
  },
  {
   "cell_type": "markdown",
   "metadata": {},
   "source": [
    "## 2.2 Numerical data"
   ]
  },
  {
   "cell_type": "markdown",
   "metadata": {},
   "source": [
    "Let's include some polynoms to have a change of incresing power of models like Linear Regression"
   ]
  },
  {
   "cell_type": "code",
   "execution_count": 39,
   "metadata": {
    "scrolled": false
   },
   "outputs": [
    {
     "data": {
      "text/html": [
       "<div>\n",
       "<style scoped>\n",
       "    .dataframe tbody tr th:only-of-type {\n",
       "        vertical-align: middle;\n",
       "    }\n",
       "\n",
       "    .dataframe tbody tr th {\n",
       "        vertical-align: top;\n",
       "    }\n",
       "\n",
       "    .dataframe thead th {\n",
       "        text-align: right;\n",
       "    }\n",
       "</style>\n",
       "<table border=\"1\" class=\"dataframe\">\n",
       "  <thead>\n",
       "    <tr style=\"text-align: right;\">\n",
       "      <th></th>\n",
       "      <th>date_block_num</th>\n",
       "      <th>shop_id</th>\n",
       "      <th>item_id</th>\n",
       "      <th>target</th>\n",
       "      <th>revenue</th>\n",
       "      <th>target_lag_1</th>\n",
       "      <th>revenue_lag_1</th>\n",
       "      <th>target_lag_2</th>\n",
       "      <th>revenue_lag_2</th>\n",
       "      <th>target_lag_3</th>\n",
       "      <th>revenue_lag_3</th>\n",
       "      <th>target_lag_4</th>\n",
       "      <th>revenue_lag_4</th>\n",
       "      <th>target_lag_5</th>\n",
       "      <th>revenue_lag_5</th>\n",
       "      <th>target_lag_6</th>\n",
       "      <th>revenue_lag_6</th>\n",
       "      <th>target_lag_7</th>\n",
       "      <th>revenue_lag_7</th>\n",
       "      <th>target_lag_8</th>\n",
       "      <th>revenue_lag_8</th>\n",
       "      <th>target_lag_9</th>\n",
       "      <th>revenue_lag_9</th>\n",
       "      <th>target_lag_10</th>\n",
       "      <th>revenue_lag_10</th>\n",
       "      <th>item_category_id</th>\n",
       "      <th>category_2</th>\n",
       "      <th>category_3</th>\n",
       "      <th>category_4</th>\n",
       "      <th>category_5</th>\n",
       "      <th>category_6</th>\n",
       "      <th>category_7</th>\n",
       "      <th>category_8</th>\n",
       "      <th>category_9</th>\n",
       "      <th>category_11</th>\n",
       "      <th>category_12</th>\n",
       "      <th>category_13</th>\n",
       "      <th>category_14</th>\n",
       "      <th>category_15</th>\n",
       "      <th>category_16</th>\n",
       "      <th>category_17</th>\n",
       "      <th>category_18</th>\n",
       "      <th>category_19</th>\n",
       "      <th>category_20</th>\n",
       "      <th>category_21</th>\n",
       "      <th>category_22</th>\n",
       "      <th>category_23</th>\n",
       "      <th>category_24</th>\n",
       "      <th>category_25</th>\n",
       "      <th>category_26</th>\n",
       "      <th>...</th>\n",
       "      <th>category_39</th>\n",
       "      <th>category_40</th>\n",
       "      <th>category_41</th>\n",
       "      <th>category_42</th>\n",
       "      <th>category_43</th>\n",
       "      <th>category_44</th>\n",
       "      <th>category_45</th>\n",
       "      <th>category_46</th>\n",
       "      <th>category_47</th>\n",
       "      <th>category_48</th>\n",
       "      <th>category_49</th>\n",
       "      <th>category_50</th>\n",
       "      <th>category_51</th>\n",
       "      <th>category_53</th>\n",
       "      <th>category_54</th>\n",
       "      <th>category_55</th>\n",
       "      <th>category_56</th>\n",
       "      <th>category_57</th>\n",
       "      <th>category_58</th>\n",
       "      <th>category_59</th>\n",
       "      <th>category_60</th>\n",
       "      <th>category_61</th>\n",
       "      <th>category_62</th>\n",
       "      <th>category_63</th>\n",
       "      <th>category_64</th>\n",
       "      <th>category_65</th>\n",
       "      <th>category_66</th>\n",
       "      <th>category_67</th>\n",
       "      <th>category_68</th>\n",
       "      <th>category_69</th>\n",
       "      <th>category_70</th>\n",
       "      <th>category_71</th>\n",
       "      <th>category_72</th>\n",
       "      <th>category_73</th>\n",
       "      <th>category_74</th>\n",
       "      <th>category_75</th>\n",
       "      <th>category_76</th>\n",
       "      <th>category_77</th>\n",
       "      <th>category_78</th>\n",
       "      <th>category_79</th>\n",
       "      <th>category_80</th>\n",
       "      <th>category_81</th>\n",
       "      <th>category_82</th>\n",
       "      <th>category_83</th>\n",
       "      <th>shop_id_target_mean</th>\n",
       "      <th>shop_id_freq</th>\n",
       "      <th>item_id_target_mean</th>\n",
       "      <th>item_id_freq</th>\n",
       "      <th>item_category_id_target_mean</th>\n",
       "      <th>item_category_id_freq</th>\n",
       "    </tr>\n",
       "  </thead>\n",
       "  <tbody>\n",
       "    <tr>\n",
       "      <th>570558</th>\n",
       "      <td>10</td>\n",
       "      <td>2</td>\n",
       "      <td>0</td>\n",
       "      <td>0.0</td>\n",
       "      <td>0.0</td>\n",
       "      <td>0.0</td>\n",
       "      <td>0.0</td>\n",
       "      <td>0.0</td>\n",
       "      <td>0.0</td>\n",
       "      <td>0.0</td>\n",
       "      <td>0.0</td>\n",
       "      <td>0.0</td>\n",
       "      <td>0.0</td>\n",
       "      <td>0.0</td>\n",
       "      <td>0.0</td>\n",
       "      <td>0.0</td>\n",
       "      <td>0.0</td>\n",
       "      <td>0.0</td>\n",
       "      <td>0.0</td>\n",
       "      <td>0.0</td>\n",
       "      <td>0.0</td>\n",
       "      <td>0.0</td>\n",
       "      <td>0.0</td>\n",
       "      <td>0.0</td>\n",
       "      <td>0.0</td>\n",
       "      <td>40</td>\n",
       "      <td>0</td>\n",
       "      <td>0</td>\n",
       "      <td>0</td>\n",
       "      <td>0</td>\n",
       "      <td>0</td>\n",
       "      <td>0</td>\n",
       "      <td>0</td>\n",
       "      <td>0</td>\n",
       "      <td>0</td>\n",
       "      <td>0</td>\n",
       "      <td>0</td>\n",
       "      <td>0</td>\n",
       "      <td>0</td>\n",
       "      <td>0</td>\n",
       "      <td>0</td>\n",
       "      <td>0</td>\n",
       "      <td>0</td>\n",
       "      <td>0</td>\n",
       "      <td>0</td>\n",
       "      <td>0</td>\n",
       "      <td>0</td>\n",
       "      <td>0</td>\n",
       "      <td>0</td>\n",
       "      <td>0</td>\n",
       "      <td>...</td>\n",
       "      <td>0</td>\n",
       "      <td>1</td>\n",
       "      <td>0</td>\n",
       "      <td>0</td>\n",
       "      <td>0</td>\n",
       "      <td>0</td>\n",
       "      <td>0</td>\n",
       "      <td>0</td>\n",
       "      <td>0</td>\n",
       "      <td>0</td>\n",
       "      <td>0</td>\n",
       "      <td>0</td>\n",
       "      <td>0</td>\n",
       "      <td>0</td>\n",
       "      <td>0</td>\n",
       "      <td>0</td>\n",
       "      <td>0</td>\n",
       "      <td>0</td>\n",
       "      <td>0</td>\n",
       "      <td>0</td>\n",
       "      <td>0</td>\n",
       "      <td>0</td>\n",
       "      <td>0</td>\n",
       "      <td>0</td>\n",
       "      <td>0</td>\n",
       "      <td>0</td>\n",
       "      <td>0</td>\n",
       "      <td>0</td>\n",
       "      <td>0</td>\n",
       "      <td>0</td>\n",
       "      <td>0</td>\n",
       "      <td>0</td>\n",
       "      <td>0</td>\n",
       "      <td>0</td>\n",
       "      <td>0</td>\n",
       "      <td>0</td>\n",
       "      <td>0</td>\n",
       "      <td>0</td>\n",
       "      <td>0</td>\n",
       "      <td>0</td>\n",
       "      <td>0</td>\n",
       "      <td>0</td>\n",
       "      <td>0</td>\n",
       "      <td>0</td>\n",
       "      <td>1.931683</td>\n",
       "      <td>0.010678</td>\n",
       "      <td>0.000731</td>\n",
       "      <td>0.001315</td>\n",
       "      <td>1.815973</td>\n",
       "      <td>0.184332</td>\n",
       "    </tr>\n",
       "    <tr>\n",
       "      <th>570559</th>\n",
       "      <td>10</td>\n",
       "      <td>2</td>\n",
       "      <td>33</td>\n",
       "      <td>2.0</td>\n",
       "      <td>398.0</td>\n",
       "      <td>0.0</td>\n",
       "      <td>0.0</td>\n",
       "      <td>0.0</td>\n",
       "      <td>0.0</td>\n",
       "      <td>0.0</td>\n",
       "      <td>0.0</td>\n",
       "      <td>0.0</td>\n",
       "      <td>0.0</td>\n",
       "      <td>0.0</td>\n",
       "      <td>0.0</td>\n",
       "      <td>0.0</td>\n",
       "      <td>0.0</td>\n",
       "      <td>0.0</td>\n",
       "      <td>0.0</td>\n",
       "      <td>0.0</td>\n",
       "      <td>0.0</td>\n",
       "      <td>0.0</td>\n",
       "      <td>0.0</td>\n",
       "      <td>1.0</td>\n",
       "      <td>499.0</td>\n",
       "      <td>37</td>\n",
       "      <td>0</td>\n",
       "      <td>0</td>\n",
       "      <td>0</td>\n",
       "      <td>0</td>\n",
       "      <td>0</td>\n",
       "      <td>0</td>\n",
       "      <td>0</td>\n",
       "      <td>0</td>\n",
       "      <td>0</td>\n",
       "      <td>0</td>\n",
       "      <td>0</td>\n",
       "      <td>0</td>\n",
       "      <td>0</td>\n",
       "      <td>0</td>\n",
       "      <td>0</td>\n",
       "      <td>0</td>\n",
       "      <td>0</td>\n",
       "      <td>0</td>\n",
       "      <td>0</td>\n",
       "      <td>0</td>\n",
       "      <td>0</td>\n",
       "      <td>0</td>\n",
       "      <td>0</td>\n",
       "      <td>0</td>\n",
       "      <td>...</td>\n",
       "      <td>0</td>\n",
       "      <td>0</td>\n",
       "      <td>0</td>\n",
       "      <td>0</td>\n",
       "      <td>0</td>\n",
       "      <td>0</td>\n",
       "      <td>0</td>\n",
       "      <td>0</td>\n",
       "      <td>0</td>\n",
       "      <td>0</td>\n",
       "      <td>0</td>\n",
       "      <td>0</td>\n",
       "      <td>0</td>\n",
       "      <td>0</td>\n",
       "      <td>0</td>\n",
       "      <td>0</td>\n",
       "      <td>0</td>\n",
       "      <td>0</td>\n",
       "      <td>0</td>\n",
       "      <td>0</td>\n",
       "      <td>0</td>\n",
       "      <td>0</td>\n",
       "      <td>0</td>\n",
       "      <td>0</td>\n",
       "      <td>0</td>\n",
       "      <td>0</td>\n",
       "      <td>0</td>\n",
       "      <td>0</td>\n",
       "      <td>0</td>\n",
       "      <td>0</td>\n",
       "      <td>0</td>\n",
       "      <td>0</td>\n",
       "      <td>0</td>\n",
       "      <td>0</td>\n",
       "      <td>0</td>\n",
       "      <td>0</td>\n",
       "      <td>0</td>\n",
       "      <td>0</td>\n",
       "      <td>0</td>\n",
       "      <td>0</td>\n",
       "      <td>0</td>\n",
       "      <td>0</td>\n",
       "      <td>0</td>\n",
       "      <td>0</td>\n",
       "      <td>1.931683</td>\n",
       "      <td>0.010678</td>\n",
       "      <td>1.372493</td>\n",
       "      <td>0.000335</td>\n",
       "      <td>1.507363</td>\n",
       "      <td>0.085626</td>\n",
       "    </tr>\n",
       "    <tr>\n",
       "      <th>570560</th>\n",
       "      <td>10</td>\n",
       "      <td>2</td>\n",
       "      <td>97</td>\n",
       "      <td>1.0</td>\n",
       "      <td>149.0</td>\n",
       "      <td>0.0</td>\n",
       "      <td>0.0</td>\n",
       "      <td>0.0</td>\n",
       "      <td>0.0</td>\n",
       "      <td>0.0</td>\n",
       "      <td>0.0</td>\n",
       "      <td>0.0</td>\n",
       "      <td>0.0</td>\n",
       "      <td>0.0</td>\n",
       "      <td>0.0</td>\n",
       "      <td>0.0</td>\n",
       "      <td>0.0</td>\n",
       "      <td>0.0</td>\n",
       "      <td>0.0</td>\n",
       "      <td>0.0</td>\n",
       "      <td>0.0</td>\n",
       "      <td>0.0</td>\n",
       "      <td>0.0</td>\n",
       "      <td>0.0</td>\n",
       "      <td>0.0</td>\n",
       "      <td>40</td>\n",
       "      <td>0</td>\n",
       "      <td>0</td>\n",
       "      <td>0</td>\n",
       "      <td>0</td>\n",
       "      <td>0</td>\n",
       "      <td>0</td>\n",
       "      <td>0</td>\n",
       "      <td>0</td>\n",
       "      <td>0</td>\n",
       "      <td>0</td>\n",
       "      <td>0</td>\n",
       "      <td>0</td>\n",
       "      <td>0</td>\n",
       "      <td>0</td>\n",
       "      <td>0</td>\n",
       "      <td>0</td>\n",
       "      <td>0</td>\n",
       "      <td>0</td>\n",
       "      <td>0</td>\n",
       "      <td>0</td>\n",
       "      <td>0</td>\n",
       "      <td>0</td>\n",
       "      <td>0</td>\n",
       "      <td>0</td>\n",
       "      <td>...</td>\n",
       "      <td>0</td>\n",
       "      <td>1</td>\n",
       "      <td>0</td>\n",
       "      <td>0</td>\n",
       "      <td>0</td>\n",
       "      <td>0</td>\n",
       "      <td>0</td>\n",
       "      <td>0</td>\n",
       "      <td>0</td>\n",
       "      <td>0</td>\n",
       "      <td>0</td>\n",
       "      <td>0</td>\n",
       "      <td>0</td>\n",
       "      <td>0</td>\n",
       "      <td>0</td>\n",
       "      <td>0</td>\n",
       "      <td>0</td>\n",
       "      <td>0</td>\n",
       "      <td>0</td>\n",
       "      <td>0</td>\n",
       "      <td>0</td>\n",
       "      <td>0</td>\n",
       "      <td>0</td>\n",
       "      <td>0</td>\n",
       "      <td>0</td>\n",
       "      <td>0</td>\n",
       "      <td>0</td>\n",
       "      <td>0</td>\n",
       "      <td>0</td>\n",
       "      <td>0</td>\n",
       "      <td>0</td>\n",
       "      <td>0</td>\n",
       "      <td>0</td>\n",
       "      <td>0</td>\n",
       "      <td>0</td>\n",
       "      <td>0</td>\n",
       "      <td>0</td>\n",
       "      <td>0</td>\n",
       "      <td>0</td>\n",
       "      <td>0</td>\n",
       "      <td>0</td>\n",
       "      <td>0</td>\n",
       "      <td>0</td>\n",
       "      <td>0</td>\n",
       "      <td>1.931683</td>\n",
       "      <td>0.010678</td>\n",
       "      <td>1.000000</td>\n",
       "      <td>0.000003</td>\n",
       "      <td>1.815973</td>\n",
       "      <td>0.184332</td>\n",
       "    </tr>\n",
       "    <tr>\n",
       "      <th>570561</th>\n",
       "      <td>10</td>\n",
       "      <td>2</td>\n",
       "      <td>482</td>\n",
       "      <td>2.0</td>\n",
       "      <td>6600.0</td>\n",
       "      <td>1.0</td>\n",
       "      <td>3300.0</td>\n",
       "      <td>2.0</td>\n",
       "      <td>6600.0</td>\n",
       "      <td>0.0</td>\n",
       "      <td>0.0</td>\n",
       "      <td>1.0</td>\n",
       "      <td>3300.0</td>\n",
       "      <td>2.0</td>\n",
       "      <td>6600.0</td>\n",
       "      <td>1.0</td>\n",
       "      <td>3300.0</td>\n",
       "      <td>1.0</td>\n",
       "      <td>3300.0</td>\n",
       "      <td>1.0</td>\n",
       "      <td>3300.0</td>\n",
       "      <td>1.0</td>\n",
       "      <td>3300.0</td>\n",
       "      <td>1.0</td>\n",
       "      <td>3300.0</td>\n",
       "      <td>73</td>\n",
       "      <td>0</td>\n",
       "      <td>0</td>\n",
       "      <td>0</td>\n",
       "      <td>0</td>\n",
       "      <td>0</td>\n",
       "      <td>0</td>\n",
       "      <td>0</td>\n",
       "      <td>0</td>\n",
       "      <td>0</td>\n",
       "      <td>0</td>\n",
       "      <td>0</td>\n",
       "      <td>0</td>\n",
       "      <td>0</td>\n",
       "      <td>0</td>\n",
       "      <td>0</td>\n",
       "      <td>0</td>\n",
       "      <td>0</td>\n",
       "      <td>0</td>\n",
       "      <td>0</td>\n",
       "      <td>0</td>\n",
       "      <td>0</td>\n",
       "      <td>0</td>\n",
       "      <td>0</td>\n",
       "      <td>0</td>\n",
       "      <td>...</td>\n",
       "      <td>0</td>\n",
       "      <td>0</td>\n",
       "      <td>0</td>\n",
       "      <td>0</td>\n",
       "      <td>0</td>\n",
       "      <td>0</td>\n",
       "      <td>0</td>\n",
       "      <td>0</td>\n",
       "      <td>0</td>\n",
       "      <td>0</td>\n",
       "      <td>0</td>\n",
       "      <td>0</td>\n",
       "      <td>0</td>\n",
       "      <td>0</td>\n",
       "      <td>0</td>\n",
       "      <td>0</td>\n",
       "      <td>0</td>\n",
       "      <td>0</td>\n",
       "      <td>0</td>\n",
       "      <td>0</td>\n",
       "      <td>0</td>\n",
       "      <td>0</td>\n",
       "      <td>0</td>\n",
       "      <td>0</td>\n",
       "      <td>0</td>\n",
       "      <td>0</td>\n",
       "      <td>0</td>\n",
       "      <td>0</td>\n",
       "      <td>0</td>\n",
       "      <td>0</td>\n",
       "      <td>0</td>\n",
       "      <td>0</td>\n",
       "      <td>0</td>\n",
       "      <td>1</td>\n",
       "      <td>0</td>\n",
       "      <td>0</td>\n",
       "      <td>0</td>\n",
       "      <td>0</td>\n",
       "      <td>0</td>\n",
       "      <td>0</td>\n",
       "      <td>0</td>\n",
       "      <td>0</td>\n",
       "      <td>0</td>\n",
       "      <td>0</td>\n",
       "      <td>1.931683</td>\n",
       "      <td>0.010678</td>\n",
       "      <td>2.913580</td>\n",
       "      <td>0.000545</td>\n",
       "      <td>2.307651</td>\n",
       "      <td>0.003543</td>\n",
       "    </tr>\n",
       "    <tr>\n",
       "      <th>570562</th>\n",
       "      <td>10</td>\n",
       "      <td>2</td>\n",
       "      <td>791</td>\n",
       "      <td>1.0</td>\n",
       "      <td>600.0</td>\n",
       "      <td>2.0</td>\n",
       "      <td>1200.0</td>\n",
       "      <td>3.0</td>\n",
       "      <td>1800.0</td>\n",
       "      <td>1.0</td>\n",
       "      <td>600.0</td>\n",
       "      <td>1.0</td>\n",
       "      <td>600.0</td>\n",
       "      <td>3.0</td>\n",
       "      <td>1800.0</td>\n",
       "      <td>4.0</td>\n",
       "      <td>2400.0</td>\n",
       "      <td>2.0</td>\n",
       "      <td>1200.0</td>\n",
       "      <td>2.0</td>\n",
       "      <td>1200.0</td>\n",
       "      <td>1.0</td>\n",
       "      <td>600.0</td>\n",
       "      <td>2.0</td>\n",
       "      <td>1200.0</td>\n",
       "      <td>73</td>\n",
       "      <td>0</td>\n",
       "      <td>0</td>\n",
       "      <td>0</td>\n",
       "      <td>0</td>\n",
       "      <td>0</td>\n",
       "      <td>0</td>\n",
       "      <td>0</td>\n",
       "      <td>0</td>\n",
       "      <td>0</td>\n",
       "      <td>0</td>\n",
       "      <td>0</td>\n",
       "      <td>0</td>\n",
       "      <td>0</td>\n",
       "      <td>0</td>\n",
       "      <td>0</td>\n",
       "      <td>0</td>\n",
       "      <td>0</td>\n",
       "      <td>0</td>\n",
       "      <td>0</td>\n",
       "      <td>0</td>\n",
       "      <td>0</td>\n",
       "      <td>0</td>\n",
       "      <td>0</td>\n",
       "      <td>0</td>\n",
       "      <td>...</td>\n",
       "      <td>0</td>\n",
       "      <td>0</td>\n",
       "      <td>0</td>\n",
       "      <td>0</td>\n",
       "      <td>0</td>\n",
       "      <td>0</td>\n",
       "      <td>0</td>\n",
       "      <td>0</td>\n",
       "      <td>0</td>\n",
       "      <td>0</td>\n",
       "      <td>0</td>\n",
       "      <td>0</td>\n",
       "      <td>0</td>\n",
       "      <td>0</td>\n",
       "      <td>0</td>\n",
       "      <td>0</td>\n",
       "      <td>0</td>\n",
       "      <td>0</td>\n",
       "      <td>0</td>\n",
       "      <td>0</td>\n",
       "      <td>0</td>\n",
       "      <td>0</td>\n",
       "      <td>0</td>\n",
       "      <td>0</td>\n",
       "      <td>0</td>\n",
       "      <td>0</td>\n",
       "      <td>0</td>\n",
       "      <td>0</td>\n",
       "      <td>0</td>\n",
       "      <td>0</td>\n",
       "      <td>0</td>\n",
       "      <td>0</td>\n",
       "      <td>0</td>\n",
       "      <td>1</td>\n",
       "      <td>0</td>\n",
       "      <td>0</td>\n",
       "      <td>0</td>\n",
       "      <td>0</td>\n",
       "      <td>0</td>\n",
       "      <td>0</td>\n",
       "      <td>0</td>\n",
       "      <td>0</td>\n",
       "      <td>0</td>\n",
       "      <td>0</td>\n",
       "      <td>1.931683</td>\n",
       "      <td>0.010678</td>\n",
       "      <td>1.892216</td>\n",
       "      <td>0.000160</td>\n",
       "      <td>2.307651</td>\n",
       "      <td>0.003543</td>\n",
       "    </tr>\n",
       "  </tbody>\n",
       "</table>\n",
       "<p>5 rows × 112 columns</p>\n",
       "</div>"
      ],
      "text/plain": [
       "        date_block_num  shop_id  item_id  target  revenue  target_lag_1  \\\n",
       "570558              10        2        0     0.0      0.0           0.0   \n",
       "570559              10        2       33     2.0    398.0           0.0   \n",
       "570560              10        2       97     1.0    149.0           0.0   \n",
       "570561              10        2      482     2.0   6600.0           1.0   \n",
       "570562              10        2      791     1.0    600.0           2.0   \n",
       "\n",
       "        revenue_lag_1  target_lag_2  revenue_lag_2  target_lag_3  \\\n",
       "570558            0.0           0.0            0.0           0.0   \n",
       "570559            0.0           0.0            0.0           0.0   \n",
       "570560            0.0           0.0            0.0           0.0   \n",
       "570561         3300.0           2.0         6600.0           0.0   \n",
       "570562         1200.0           3.0         1800.0           1.0   \n",
       "\n",
       "        revenue_lag_3  target_lag_4  revenue_lag_4  target_lag_5  \\\n",
       "570558            0.0           0.0            0.0           0.0   \n",
       "570559            0.0           0.0            0.0           0.0   \n",
       "570560            0.0           0.0            0.0           0.0   \n",
       "570561            0.0           1.0         3300.0           2.0   \n",
       "570562          600.0           1.0          600.0           3.0   \n",
       "\n",
       "        revenue_lag_5  target_lag_6  revenue_lag_6  target_lag_7  \\\n",
       "570558            0.0           0.0            0.0           0.0   \n",
       "570559            0.0           0.0            0.0           0.0   \n",
       "570560            0.0           0.0            0.0           0.0   \n",
       "570561         6600.0           1.0         3300.0           1.0   \n",
       "570562         1800.0           4.0         2400.0           2.0   \n",
       "\n",
       "        revenue_lag_7  target_lag_8  revenue_lag_8  target_lag_9  \\\n",
       "570558            0.0           0.0            0.0           0.0   \n",
       "570559            0.0           0.0            0.0           0.0   \n",
       "570560            0.0           0.0            0.0           0.0   \n",
       "570561         3300.0           1.0         3300.0           1.0   \n",
       "570562         1200.0           2.0         1200.0           1.0   \n",
       "\n",
       "        revenue_lag_9  target_lag_10  revenue_lag_10  item_category_id  \\\n",
       "570558            0.0            0.0             0.0                40   \n",
       "570559            0.0            1.0           499.0                37   \n",
       "570560            0.0            0.0             0.0                40   \n",
       "570561         3300.0            1.0          3300.0                73   \n",
       "570562          600.0            2.0          1200.0                73   \n",
       "\n",
       "        category_2  category_3  category_4  category_5  category_6  \\\n",
       "570558           0           0           0           0           0   \n",
       "570559           0           0           0           0           0   \n",
       "570560           0           0           0           0           0   \n",
       "570561           0           0           0           0           0   \n",
       "570562           0           0           0           0           0   \n",
       "\n",
       "        category_7  category_8  category_9  category_11  category_12  \\\n",
       "570558           0           0           0            0            0   \n",
       "570559           0           0           0            0            0   \n",
       "570560           0           0           0            0            0   \n",
       "570561           0           0           0            0            0   \n",
       "570562           0           0           0            0            0   \n",
       "\n",
       "        category_13  category_14  category_15  category_16  category_17  \\\n",
       "570558            0            0            0            0            0   \n",
       "570559            0            0            0            0            0   \n",
       "570560            0            0            0            0            0   \n",
       "570561            0            0            0            0            0   \n",
       "570562            0            0            0            0            0   \n",
       "\n",
       "        category_18  category_19  category_20  category_21  category_22  \\\n",
       "570558            0            0            0            0            0   \n",
       "570559            0            0            0            0            0   \n",
       "570560            0            0            0            0            0   \n",
       "570561            0            0            0            0            0   \n",
       "570562            0            0            0            0            0   \n",
       "\n",
       "        category_23  category_24  category_25  category_26  ...  category_39  \\\n",
       "570558            0            0            0            0  ...            0   \n",
       "570559            0            0            0            0  ...            0   \n",
       "570560            0            0            0            0  ...            0   \n",
       "570561            0            0            0            0  ...            0   \n",
       "570562            0            0            0            0  ...            0   \n",
       "\n",
       "        category_40  category_41  category_42  category_43  category_44  \\\n",
       "570558            1            0            0            0            0   \n",
       "570559            0            0            0            0            0   \n",
       "570560            1            0            0            0            0   \n",
       "570561            0            0            0            0            0   \n",
       "570562            0            0            0            0            0   \n",
       "\n",
       "        category_45  category_46  category_47  category_48  category_49  \\\n",
       "570558            0            0            0            0            0   \n",
       "570559            0            0            0            0            0   \n",
       "570560            0            0            0            0            0   \n",
       "570561            0            0            0            0            0   \n",
       "570562            0            0            0            0            0   \n",
       "\n",
       "        category_50  category_51  category_53  category_54  category_55  \\\n",
       "570558            0            0            0            0            0   \n",
       "570559            0            0            0            0            0   \n",
       "570560            0            0            0            0            0   \n",
       "570561            0            0            0            0            0   \n",
       "570562            0            0            0            0            0   \n",
       "\n",
       "        category_56  category_57  category_58  category_59  category_60  \\\n",
       "570558            0            0            0            0            0   \n",
       "570559            0            0            0            0            0   \n",
       "570560            0            0            0            0            0   \n",
       "570561            0            0            0            0            0   \n",
       "570562            0            0            0            0            0   \n",
       "\n",
       "        category_61  category_62  category_63  category_64  category_65  \\\n",
       "570558            0            0            0            0            0   \n",
       "570559            0            0            0            0            0   \n",
       "570560            0            0            0            0            0   \n",
       "570561            0            0            0            0            0   \n",
       "570562            0            0            0            0            0   \n",
       "\n",
       "        category_66  category_67  category_68  category_69  category_70  \\\n",
       "570558            0            0            0            0            0   \n",
       "570559            0            0            0            0            0   \n",
       "570560            0            0            0            0            0   \n",
       "570561            0            0            0            0            0   \n",
       "570562            0            0            0            0            0   \n",
       "\n",
       "        category_71  category_72  category_73  category_74  category_75  \\\n",
       "570558            0            0            0            0            0   \n",
       "570559            0            0            0            0            0   \n",
       "570560            0            0            0            0            0   \n",
       "570561            0            0            1            0            0   \n",
       "570562            0            0            1            0            0   \n",
       "\n",
       "        category_76  category_77  category_78  category_79  category_80  \\\n",
       "570558            0            0            0            0            0   \n",
       "570559            0            0            0            0            0   \n",
       "570560            0            0            0            0            0   \n",
       "570561            0            0            0            0            0   \n",
       "570562            0            0            0            0            0   \n",
       "\n",
       "        category_81  category_82  category_83  shop_id_target_mean  \\\n",
       "570558            0            0            0             1.931683   \n",
       "570559            0            0            0             1.931683   \n",
       "570560            0            0            0             1.931683   \n",
       "570561            0            0            0             1.931683   \n",
       "570562            0            0            0             1.931683   \n",
       "\n",
       "        shop_id_freq  item_id_target_mean  item_id_freq  \\\n",
       "570558      0.010678             0.000731      0.001315   \n",
       "570559      0.010678             1.372493      0.000335   \n",
       "570560      0.010678             1.000000      0.000003   \n",
       "570561      0.010678             2.913580      0.000545   \n",
       "570562      0.010678             1.892216      0.000160   \n",
       "\n",
       "        item_category_id_target_mean  item_category_id_freq  \n",
       "570558                      1.815973               0.184332  \n",
       "570559                      1.507363               0.085626  \n",
       "570560                      1.815973               0.184332  \n",
       "570561                      2.307651               0.003543  \n",
       "570562                      2.307651               0.003543  \n",
       "\n",
       "[5 rows x 112 columns]"
      ]
     },
     "execution_count": 39,
     "metadata": {},
     "output_type": "execute_result"
    }
   ],
   "source": [
    "train_groupped.head()"
   ]
  },
  {
   "cell_type": "markdown",
   "metadata": {},
   "source": [
    "To take maximum from sales' history lets count std of revenue and target, days with zero/non-zero incomes"
   ]
  },
  {
   "cell_type": "code",
   "execution_count": 40,
   "metadata": {},
   "outputs": [],
   "source": [
    "train_groupped['revenue_std'] = train_groupped[['revenue_lag_{}'.format(i) for i in range(1, story_len + 1)]].std(axis=1)\n",
    "train_groupped['target_std'] = train_groupped[['target_lag_{}'.format(i) for i in range(1, story_len + 1)]].std(axis=1)\n",
    "\n",
    "train_groupped['zero_sales'] = (train_groupped[['revenue_lag_{}'.format(i) for i in range(1, story_len + 1)]] == 0).sum(axis=1)\n",
    "train_groupped['nonzero_sales'] = story_len - train_groupped['zero_sales']"
   ]
  },
  {
   "cell_type": "code",
   "execution_count": 41,
   "metadata": {},
   "outputs": [],
   "source": [
    "numerical_columns = ['revenue', 'shop_id_target_mean', 'shop_id_freq', 'item_id_target_mean',\n",
    "                     'item_id_freq', 'item_category_id_target_mean', 'item_category_id_freq',\n",
    "                     'target_lag_1', 'revenue_lag_1']\n",
    "# Names of functions are presented in form of suffixes\n",
    "functions = {\n",
    "    '_square' : lambda x : x * x,\n",
    "    '_sqrt'   : lambda x : -1 if (x < 0) else np.math.sqrt(x),\n",
    "    '_cube'   : lambda x : x * x * x\n",
    "}\n",
    "\n",
    "for column in numerical_columns:\n",
    "    for key in functions.keys():\n",
    "        train_groupped[column + key] = train_groupped[column].apply(functions[key])"
   ]
  },
  {
   "cell_type": "markdown",
   "metadata": {},
   "source": [
    "It is also important to include information about price, so let's join price's mean. **Note**: for the real validation this mean value should be taken from train dataset, not the full one."
   ]
  },
  {
   "cell_type": "code",
   "execution_count": 42,
   "metadata": {},
   "outputs": [],
   "source": [
    "train_groupped = train_groupped.join(item_mean_prices, on='item_id')\n",
    "train_groupped = train_groupped.join(shop_mean_prices, on='shop_id')"
   ]
  },
  {
   "cell_type": "markdown",
   "metadata": {},
   "source": [
    "We can also need to clear some values."
   ]
  },
  {
   "cell_type": "code",
   "execution_count": 43,
   "metadata": {},
   "outputs": [],
   "source": [
    "# \"category_columns\" consists of nominal values, so they are mostly useless for any model\n",
    "train_groupped.drop(category_columns, axis=1, inplace=True)\n",
    "\n",
    "# \"revenue\" is calculated with knowledge of target\n",
    "train_groupped.drop('revenue', axis=1, inplace=True)"
   ]
  },
  {
   "cell_type": "markdown",
   "metadata": {},
   "source": [
    "Let's conider the following format of data (conditions for the work of the code below): \\\n",
    "**Columns** : shop_id - item_id - item_category_id - item_price \\\n",
    "shop_id, item_id, item_category_id can't have NaNs \\\n",
    "item_price can have NaNs"
   ]
  },
  {
   "cell_type": "markdown",
   "metadata": {},
   "source": [
    "# 3 Model\n",
    "There is a list of models to try out in this task: \\\n",
    "1) sklearn.ensemble.RandomForestRegressor \\\n",
    "2) sklearn.linear_model.LinearRegression \\\n",
    "3) sklearn.linear_model.SGDRegressor \\\n",
    "4) sklearn.linear_model.Ridge \\\n",
    "5) lightgbm.LGBMRegressor \\\n",
    "6) xgboost.XGBRegressor"
   ]
  },
  {
   "cell_type": "code",
   "execution_count": 44,
   "metadata": {},
   "outputs": [],
   "source": [
    "train_val = train_groupped[train_groupped['date_block_num'] <= 32]\n",
    "test_val = train_groupped[train_groupped['date_block_num'] == 33]"
   ]
  },
  {
   "cell_type": "code",
   "execution_count": 45,
   "metadata": {},
   "outputs": [],
   "source": [
    "X_train = train_val.drop('target', axis=1)\n",
    "X_test = test_val.drop('target', axis=1)\n",
    "y_train = train_val['target']\n",
    "y_test = test_val['target']"
   ]
  },
  {
   "cell_type": "code",
   "execution_count": 46,
   "metadata": {},
   "outputs": [],
   "source": [
    "from sklearn.ensemble import RandomForestRegressor\n",
    "from sklearn.linear_model import LinearRegression, SGDRegressor, Ridge\n",
    "from lightgbm import LGBMRegressor\n",
    "from xgboost import XGBRegressor\n",
    "\n",
    "from sklearn.metrics import mean_squared_error as mse"
   ]
  },
  {
   "cell_type": "code",
   "execution_count": 47,
   "metadata": {
    "scrolled": true
   },
   "outputs": [
    {
     "data": {
      "text/plain": [
       "3.1741069436159166"
      ]
     },
     "execution_count": 47,
     "metadata": {},
     "output_type": "execute_result"
    }
   ],
   "source": [
    "lr = LinearRegression()\n",
    "lr.fit(X_train, y_train)\n",
    "\n",
    "mse(y_test, lr.predict(X_test))"
   ]
  },
  {
   "cell_type": "code",
   "execution_count": 48,
   "metadata": {},
   "outputs": [
    {
     "name": "stderr",
     "output_type": "stream",
     "text": [
      "c:\\users\\shepe\\python\\lib\\site-packages\\xgboost\\core.py:587: FutureWarning: Series.base is deprecated and will be removed in a future version\n",
      "  if getattr(data, 'base', None) is not None and \\\n",
      "c:\\users\\shepe\\python\\lib\\site-packages\\xgboost\\core.py:588: FutureWarning: Series.base is deprecated and will be removed in a future version\n",
      "  data.base is not None and isinstance(data, np.ndarray) \\\n"
     ]
    },
    {
     "data": {
      "text/plain": [
       "0.2503631484617078"
      ]
     },
     "execution_count": 48,
     "metadata": {},
     "output_type": "execute_result"
    }
   ],
   "source": [
    "xgb = XGBRegressor(n_jobs=20, objective ='reg:squarederror', n_estimators=1000)\n",
    "xgb.fit(X_train, y_train)\n",
    "\n",
    "mse(y_test, xgb.predict(X_test))"
   ]
  },
  {
   "cell_type": "code",
   "execution_count": 49,
   "metadata": {},
   "outputs": [
    {
     "data": {
      "text/plain": [
       "3.1741069436159166"
      ]
     },
     "execution_count": 49,
     "metadata": {},
     "output_type": "execute_result"
    }
   ],
   "source": [
    "sgd = LinearRegression()\n",
    "sgd.fit(X_train, y_train)\n",
    "\n",
    "mse(y_test, sgd.predict(X_test))"
   ]
  },
  {
   "cell_type": "code",
   "execution_count": 50,
   "metadata": {
    "scrolled": true
   },
   "outputs": [
    {
     "name": "stderr",
     "output_type": "stream",
     "text": [
      "c:\\users\\shepe\\python\\lib\\site-packages\\sklearn\\linear_model\\ridge.py:147: LinAlgWarning: Ill-conditioned matrix (rcond=5.81928e-42): result may not be accurate.\n",
      "  overwrite_a=True).T\n"
     ]
    },
    {
     "data": {
      "text/plain": [
       "1.4666315790723274"
      ]
     },
     "execution_count": 50,
     "metadata": {},
     "output_type": "execute_result"
    }
   ],
   "source": [
    "ridge = Ridge()\n",
    "ridge.fit(X_train, y_train)\n",
    "\n",
    "mse(y_test, ridge.predict(X_test))"
   ]
  },
  {
   "cell_type": "code",
   "execution_count": 51,
   "metadata": {},
   "outputs": [
    {
     "data": {
      "text/plain": [
       "0.2351093074054911"
      ]
     },
     "execution_count": 51,
     "metadata": {},
     "output_type": "execute_result"
    }
   ],
   "source": [
    "lgbm = LGBMRegressor()\n",
    "lgbm.fit(X_train, y_train)\n",
    "\n",
    "mse(y_test, lgbm.predict(X_test))"
   ]
  },
  {
   "cell_type": "code",
   "execution_count": 52,
   "metadata": {},
   "outputs": [
    {
     "name": "stderr",
     "output_type": "stream",
     "text": [
      "c:\\users\\shepe\\python\\lib\\site-packages\\sklearn\\ensemble\\forest.py:245: FutureWarning: The default value of n_estimators will change from 10 in version 0.20 to 100 in 0.22.\n",
      "  \"10 in version 0.20 to 100 in 0.22.\", FutureWarning)\n"
     ]
    },
    {
     "data": {
      "text/plain": [
       "0.1896106116246676"
      ]
     },
     "execution_count": 52,
     "metadata": {},
     "output_type": "execute_result"
    }
   ],
   "source": [
    "random_forest = RandomForestRegressor()\n",
    "random_forest.fit(X_train, y_train)\n",
    "\n",
    "mse(y_test, random_forest.predict(X_test))"
   ]
  },
  {
   "cell_type": "markdown",
   "metadata": {},
   "source": [
    "**Conclusion**: because of the clip of target value tree-based models work better, so we can use them and combine answers using bagging/stacking"
   ]
  }
 ],
 "metadata": {
  "kernelspec": {
   "display_name": "Python 3",
   "language": "python",
   "name": "python3"
  },
  "language_info": {
   "codemirror_mode": {
    "name": "ipython",
    "version": 3
   },
   "file_extension": ".py",
   "mimetype": "text/x-python",
   "name": "python",
   "nbconvert_exporter": "python",
   "pygments_lexer": "ipython3",
   "version": "3.7.4"
  }
 },
 "nbformat": 4,
 "nbformat_minor": 2
}
