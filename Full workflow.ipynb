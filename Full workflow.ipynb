{
 "cells": [
  {
   "cell_type": "code",
   "execution_count": 1,
   "metadata": {},
   "outputs": [],
   "source": [
    "# Modules import\n",
    "import pandas as pd\n",
    "import numpy as np\n",
    "import matplotlib.pyplot as plt\n",
    "import seaborn as sns\n",
    "\n",
    "from sklearn.model_selection import KFold\n",
    "from sklearn import linear_model\n",
    "from sklearn import metrics\n",
    "\n",
    "# Settings\n",
    "pd.set_option('display.max_rows', 200)\n",
    "pd.set_option('display.max_columns', 100)\n",
    "sns.set(style=\"white\")"
   ]
  },
  {
   "cell_type": "code",
   "execution_count": 47,
   "metadata": {},
   "outputs": [],
   "source": [
    "# Import data (we will immideatly merge some informaton together)\n",
    "items              = pd.read_csv('./readonly/items.csv').set_index('item_id')\n",
    "sales_train        = pd.read_csv('./readonly/sales_train.csv').join(items['item_category_id'], on='item_id') \n",
    "test               = pd.read_csv('./readonly/test.csv').join(items['item_category_id'], on='item_id')\n",
    "item_categories    = pd.read_csv('./readonly/item_categories.csv').set_index('item_category_id')\n",
    "shops              = pd.read_csv('./readonly/shops.csv').set_index('shop_id')\n",
    "\n",
    "assert not sales_train['item_category_id'].isna().any()\n",
    "assert not test['item_category_id'].isna().any()"
   ]
  },
  {
   "cell_type": "markdown",
   "metadata": {},
   "source": [
    "# 1.Outliers\n",
    "## 1.1 Every day sales\n",
    "Lets consider what is hapenning with the value, which forms our target value. First idea is to watch a destribution plot and understand what happens with outliers."
   ]
  },
  {
   "cell_type": "code",
   "execution_count": 3,
   "metadata": {
    "scrolled": false
   },
   "outputs": [
    {
     "data": {
      "image/png": "[encoded data removed]",
      "text/plain": [
       "<Figure size 1440x360 with 1 Axes>"
      ]
     },
     "metadata": {
      "needs_background": "light"
     },
     "output_type": "display_data"
    }
   ],
   "source": [
    "fig = plt.figure(figsize=(20, 5))\n",
    "sns.boxplot(sales_train['item_cnt_day'])\n",
    "plt.show()"
   ]
  },
  {
   "cell_type": "markdown",
   "metadata": {},
   "source": [
    "According to the destribution there are sertain outliers. Let's dig into them and try to find any trends. We will separate whole dataset into 3 groups: negative values, \"proper\", \"improper\". ***nI*** (number of inclusions) is chosen as a parameter of separation by \"item_cnt_day\" as there are few unique values this column."
   ]
  },
  {
   "cell_type": "code",
   "execution_count": 4,
   "metadata": {
    "scrolled": false
   },
   "outputs": [
    {
     "name": "stdout",
     "output_type": "stream",
     "text": [
      "54 from 60 shops have mistakes with negative values\n",
      "No shops have mistakes in more than 1.5 % of records\n",
      "shops with ids 12 have mistakes in more than 1.0 % of records\n",
      "shops with ids 12 36 43 have mistakes in more than 0.5 % of records\n"
     ]
    }
   ],
   "source": [
    "# Separate rows with negative values\n",
    "negative_rows = sales_train[sales_train['item_cnt_day'] < 0]\n",
    "\n",
    "# Check if some sertain shops have tendency for mistakes\n",
    "print(len(negative_rows['shop_id'].unique()), \"from\", len(shops.index), \"shops have mistakes with negative values\")\n",
    "\n",
    "for mistakes_threshold in [0.015, 0.01, 0.005]:\n",
    "    many_mistakes = sales_train.groupby('shop_id').size().loc[\n",
    "        negative_rows.groupby('shop_id').size() / sales_train.groupby('shop_id').size() > mistakes_threshold].index\n",
    "\n",
    "    if (many_mistakes.size == 0):\n",
    "        print(\"No shops have mistakes in more than\", mistakes_threshold*100, \"% of records\")\n",
    "    else:\n",
    "        print(\"shops with ids\", *many_mistakes, \"have mistakes in more than\", mistakes_threshold*100, \"% of records\")"
   ]
  },
  {
   "cell_type": "markdown",
   "metadata": {},
   "source": [
    "Two possible solutions can be seen: include this negatives as values with the right sign or not to include them at all. Let's try the first approach."
   ]
  },
  {
   "cell_type": "code",
   "execution_count": 5,
   "metadata": {
    "scrolled": true
   },
   "outputs": [],
   "source": [
    "# Apply \"abs\" function\n",
    "sales_train.loc[:, 'item_cnt_day'] = sales_train['item_cnt_day'].apply(abs)"
   ]
  },
  {
   "cell_type": "markdown",
   "metadata": {},
   "source": [
    "What about positive outliers?"
   ]
  },
  {
   "cell_type": "code",
   "execution_count": 6,
   "metadata": {},
   "outputs": [],
   "source": [
    "# Let \"counts\" be a table in which every unique value of \"item_cnt_day\" column has a it's nI in data.\n",
    "# Then let's take the i-th maximum nI and separate values of \"count\" table by this threshold.\n",
    "# \"proper_sales\" dataframe will only include rows with \"item_cnt_day\" values, which nI is not less then threshold\n",
    "i = 6\n",
    "\n",
    "counts = sales_train['item_cnt_day'].value_counts().sort_values(ascending=False)\n",
    "unique_counts_values = counts.unique()\n",
    "threshold = unique_counts_values[min(i - 1, len(unique_counts_values) - 1)]\n",
    "\n",
    "proper_values = counts[counts >= threshold].index\n",
    "proper_sales = sales_train[sales_train['item_cnt_day'].isin(proper_values)]\n",
    "\n",
    "improper_sales = sales_train.drop(proper_sales.index)\n",
    "\n",
    "assert proper_sales.shape[0] + improper_sales.shape[0] == sales_train.shape[0], \"Wrong sizes\""
   ]
  },
  {
   "cell_type": "code",
   "execution_count": 7,
   "metadata": {
    "scrolled": false
   },
   "outputs": [
    {
     "name": "stdout",
     "output_type": "stream",
     "text": [
      "\"proper\" part of data consist of rows with values 1.0 2.0 3.0 4.0 5.0 6.0\n"
     ]
    }
   ],
   "source": [
    "print(\"\\\"proper\\\" part of data consist of rows with values\", *proper_sales['item_cnt_day'].sort_values().unique())"
   ]
  },
  {
   "cell_type": "code",
   "execution_count": 8,
   "metadata": {
    "scrolled": true
   },
   "outputs": [
    {
     "name": "stdout",
     "output_type": "stream",
     "text": [
      "From top 10 items by inclusions in \"improper\" items meet in \"test\" part of data:\n",
      "20949 (7962 inclusions) - Подарки - Сумки, Альбомы, Коврики д/мыши - Фирменный пакет майка 1С Интерес белый (34*42) 45 мкм\n",
      "2808 (338 inclusions) - Игры PC - Стандартные издания - Diablo III [PC, Jewel, русская версия]\n",
      "3732 (310 inclusions) - Игры - PS3 - Grand Theft Auto V [PS3, русские субтитры]\n",
      "11370 (257 inclusions) - Доставка товара - Доставка (по Москве)\n",
      "3731 (226 inclusions) - Игры PC - Стандартные издания - Grand Theft Auto V [PC, русские субтитры]\n",
      "3734 (212 inclusions) - Игры - XBOX 360 - Grand Theft Auto V [Xbox 360, русские субтитры]\n",
      "3331 (181 inclusions) - Игры PC - Стандартные издания - FIFA 14 [PC, русская версия]\n",
      "6675 (178 inclusions) - Игровые консоли - PS4 - Sony PlayStation 4 (500 Gb) Black (CUH-1008A/1108A/B01)\n"
     ]
    }
   ],
   "source": [
    "topn = 10\n",
    "print('From top', topn, 'items by inclusions in \\\"improper\\\" items meet in \\\"test\\\" part of data:')\n",
    "for i in improper_sales['item_id'].value_counts().sort_values(ascending=False).index[:topn]:\n",
    "    if i in test['item_id'].unique():\n",
    "        print(i, ' (', improper_sales['item_id'].value_counts().sort_values(ascending=False)[i], ' inclusions) - ',\n",
    "              item_categories.loc[items.loc[i]['item_category_id']]['item_category_name'], ' - ',\n",
    "              items.loc[i]['item_name'],\n",
    "              sep='')"
   ]
  },
  {
   "cell_type": "markdown",
   "metadata": {},
   "source": [
    "What can we see is the separation between products: games and 1C's special gifts are popular and can be bought many times per day. Let's see month's graphics of sales for some items to understand if there is a trend or games are bought many times only on release."
   ]
  },
  {
   "cell_type": "code",
   "execution_count": 9,
   "metadata": {
    "scrolled": false
   },
   "outputs": [
    {
     "data": {
      "image/png": "[encoded data removed]",
      "text/plain": [
       "<Figure size 1296x720 with 4 Axes>"
      ]
     },
     "metadata": {
      "needs_background": "light"
     },
     "output_type": "display_data"
    }
   ],
   "source": [
    "# Choose come interesting items\n",
    "consider_items = [20949, 2808, 3734, 17717]\n",
    "\n",
    "plt.subplots(len(consider_items) // 2, 2, figsize=(18, 5*len(consider_items) // 2))\n",
    "subplot_id = 1\n",
    "\n",
    "for item_id in consider_items:\n",
    "    plt.subplot(len(consider_items) / 2, 2, subplot_id)\n",
    "    subplot_id += 1\n",
    "    plt.title(items.loc[item_id]['item_name'])\n",
    "    plt.plot(sales_train[sales_train['item_id'] == item_id].groupby('date_block_num')['item_cnt_day'].sum())"
   ]
  },
  {
   "cell_type": "markdown",
   "metadata": {},
   "source": [
    "As we can see, sales of games drop rapidly after release. Let's check if any new games are going to release in 34-th month"
   ]
  },
  {
   "cell_type": "code",
   "execution_count": 10,
   "metadata": {},
   "outputs": [
    {
     "name": "stdout",
     "output_type": "stream",
     "text": [
      "1722 rows in test will probably be big releases\n"
     ]
    }
   ],
   "source": [
    "# Let's find new games (index are found in \"item_categories\")\n",
    "new_releases_categories = [19, 20, 23, 24, 29, 30]\n",
    "test_items_not_met_in_train = test[test['item_id'].isin(sales_train['item_id'].unique()) == False]\n",
    "print(len(test_items_not_met_in_train[test_items_not_met_in_train['item_category_id'].isin(new_releases_categories)]), \n",
    "      'rows in test will probably be big releases')"
   ]
  },
  {
   "cell_type": "markdown",
   "metadata": {},
   "source": [
    "**In conclusion**, \\\n",
    "1) we will include outliers to calculate \"target\" value \\\n",
    "2) our model must be robust to meeting with new items \\\n",
    "3) we should include more info about category, for example, how does \"target\" look on release \\\n",
    "4) story of an item must be included: how many month is it in sales and so on (we should also form our train data with this factor in mind)"
   ]
  },
  {
   "cell_type": "markdown",
   "metadata": {},
   "source": [
    "## 1.2 Prices\n",
    "First check is to find if prices change from time to time"
   ]
  },
  {
   "cell_type": "code",
   "execution_count": 11,
   "metadata": {
    "scrolled": true
   },
   "outputs": [],
   "source": [
    "# Just useful function to see if some value has changes with respect to group of other columns\n",
    "# Reminder: this function is a bit heavy\n",
    "def has_changes_column(data, group_columns, check_column):\n",
    "    group_data = data.groupby(group_columns)[[check_column]].nunique().reset_index()\n",
    "    group_data = group_data[group_data[check_column] != 1]\n",
    "    group_data['has_changes'] = True\n",
    "    group_data = group_data.loc[:, group_columns + ['has_changes']]\n",
    "    return pd.merge(data, group_data, on=group_columns, how='left')['has_changes'].fillna(False)"
   ]
  },
  {
   "cell_type": "code",
   "execution_count": 12,
   "metadata": {
    "scrolled": false
   },
   "outputs": [
    {
     "data": {
      "text/plain": [
       "False    2511462\n",
       "True      424387\n",
       "Name: has_changes, dtype: int64"
      ]
     },
     "execution_count": 12,
     "metadata": {},
     "output_type": "execute_result"
    }
   ],
   "source": [
    "has_changes_column(sales_train, ['date_block_num', 'shop_id', 'item_id'], 'item_price').value_counts()"
   ]
  },
  {
   "cell_type": "markdown",
   "metadata": {},
   "source": [
    "As we discussed before every row in dataset will include story of sales, so it's okay to include the last price of an item"
   ]
  },
  {
   "cell_type": "code",
   "execution_count": 13,
   "metadata": {
    "scrolled": true
   },
   "outputs": [
    {
     "data": {
      "image/png": "[encoded data removed]",
      "text/plain": [
       "<Figure size 1440x360 with 1 Axes>"
      ]
     },
     "metadata": {
      "needs_background": "light"
     },
     "output_type": "display_data"
    }
   ],
   "source": [
    "fig = plt.figure(figsize=(20, 5))\n",
    "sns.boxplot(sales_train['item_price'])\n",
    "plt.show()"
   ]
  },
  {
   "cell_type": "markdown",
   "metadata": {},
   "source": [
    "We can't use the same reasoning as before, because it's usual that most of items are bought at a low price."
   ]
  },
  {
   "cell_type": "code",
   "execution_count": 14,
   "metadata": {
    "scrolled": false
   },
   "outputs": [
    {
     "name": "stdout",
     "output_type": "stream",
     "text": [
      "1 rows in data have negative values\n"
     ]
    }
   ],
   "source": [
    "print(len(sales_train[sales_train['item_price'] <= 0]), \"rows in data have negative values\")"
   ]
  },
  {
   "cell_type": "code",
   "execution_count": 15,
   "metadata": {},
   "outputs": [],
   "source": [
    "sales_train = sales_train[sales_train['item_price'] > 0]"
   ]
  },
  {
   "cell_type": "code",
   "execution_count": 16,
   "metadata": {},
   "outputs": [
    {
     "name": "stdout",
     "output_type": "stream",
     "text": [
      "Top 10 items by price they were sold are:\n"
     ]
    },
    {
     "data": {
      "text/html": [
       "<div>\n",
       "<style scoped>\n",
       "    .dataframe tbody tr th:only-of-type {\n",
       "        vertical-align: middle;\n",
       "    }\n",
       "\n",
       "    .dataframe tbody tr th {\n",
       "        vertical-align: top;\n",
       "    }\n",
       "\n",
       "    .dataframe thead th {\n",
       "        text-align: right;\n",
       "    }\n",
       "</style>\n",
       "<table border=\"1\" class=\"dataframe\">\n",
       "  <thead>\n",
       "    <tr style=\"text-align: right;\">\n",
       "      <th></th>\n",
       "      <th>item_id</th>\n",
       "      <th>item_price</th>\n",
       "      <th>item_name</th>\n",
       "    </tr>\n",
       "  </thead>\n",
       "  <tbody>\n",
       "    <tr>\n",
       "      <th>1163158</th>\n",
       "      <td>6066</td>\n",
       "      <td>307980.0</td>\n",
       "      <td>Radmin 3  - 522 лиц.</td>\n",
       "    </tr>\n",
       "    <tr>\n",
       "      <th>885138</th>\n",
       "      <td>11365</td>\n",
       "      <td>59200.0</td>\n",
       "      <td>Доставка (EMS)</td>\n",
       "    </tr>\n",
       "    <tr>\n",
       "      <th>1488135</th>\n",
       "      <td>13199</td>\n",
       "      <td>50999.0</td>\n",
       "      <td>Коллекционные шахматы (Властелин Колец)</td>\n",
       "    </tr>\n",
       "    <tr>\n",
       "      <th>2327159</th>\n",
       "      <td>7241</td>\n",
       "      <td>49782.0</td>\n",
       "      <td>UserGate Proxy &amp; Firewall 6.X с модулем фильтр...</td>\n",
       "    </tr>\n",
       "    <tr>\n",
       "      <th>2910156</th>\n",
       "      <td>13403</td>\n",
       "      <td>42990.0</td>\n",
       "      <td>Комплект \"Microsoft Xbox One 1TB  Limited Edit...</td>\n",
       "    </tr>\n",
       "    <tr>\n",
       "      <th>2917760</th>\n",
       "      <td>13403</td>\n",
       "      <td>42990.0</td>\n",
       "      <td>Комплект \"Microsoft Xbox One 1TB  Limited Edit...</td>\n",
       "    </tr>\n",
       "    <tr>\n",
       "      <th>2885692</th>\n",
       "      <td>13403</td>\n",
       "      <td>42990.0</td>\n",
       "      <td>Комплект \"Microsoft Xbox One 1TB  Limited Edit...</td>\n",
       "    </tr>\n",
       "    <tr>\n",
       "      <th>2931380</th>\n",
       "      <td>13403</td>\n",
       "      <td>42990.0</td>\n",
       "      <td>Комплект \"Microsoft Xbox One 1TB  Limited Edit...</td>\n",
       "    </tr>\n",
       "    <tr>\n",
       "      <th>1006638</th>\n",
       "      <td>7238</td>\n",
       "      <td>42000.0</td>\n",
       "      <td>UserGate Proxy &amp; Firewall 6.X до 100 сессий</td>\n",
       "    </tr>\n",
       "    <tr>\n",
       "      <th>2913267</th>\n",
       "      <td>13403</td>\n",
       "      <td>41990.0</td>\n",
       "      <td>Комплект \"Microsoft Xbox One 1TB  Limited Edit...</td>\n",
       "    </tr>\n",
       "  </tbody>\n",
       "</table>\n",
       "</div>"
      ],
      "text/plain": [
       "         item_id  item_price  \\\n",
       "1163158     6066    307980.0   \n",
       "885138     11365     59200.0   \n",
       "1488135    13199     50999.0   \n",
       "2327159     7241     49782.0   \n",
       "2910156    13403     42990.0   \n",
       "2917760    13403     42990.0   \n",
       "2885692    13403     42990.0   \n",
       "2931380    13403     42990.0   \n",
       "1006638     7238     42000.0   \n",
       "2913267    13403     41990.0   \n",
       "\n",
       "                                                 item_name  \n",
       "1163158                               Radmin 3  - 522 лиц.  \n",
       "885138                                      Доставка (EMS)  \n",
       "1488135            Коллекционные шахматы (Властелин Колец)  \n",
       "2327159  UserGate Proxy & Firewall 6.X с модулем фильтр...  \n",
       "2910156  Комплект \"Microsoft Xbox One 1TB  Limited Edit...  \n",
       "2917760  Комплект \"Microsoft Xbox One 1TB  Limited Edit...  \n",
       "2885692  Комплект \"Microsoft Xbox One 1TB  Limited Edit...  \n",
       "2931380  Комплект \"Microsoft Xbox One 1TB  Limited Edit...  \n",
       "1006638        UserGate Proxy & Firewall 6.X до 100 сессий  \n",
       "2913267  Комплект \"Microsoft Xbox One 1TB  Limited Edit...  "
      ]
     },
     "execution_count": 16,
     "metadata": {},
     "output_type": "execute_result"
    }
   ],
   "source": [
    "whis = 1.5\n",
    "IQR = sales_train['item_price'].quantile(0.75) - sales_train['item_price'].quantile(0.25)\n",
    "outliers = sales_train[sales_train['item_price'] > sales_train['item_price'].quantile(0.75) + IQR*whis]\n",
    "\n",
    "topn = 10\n",
    "print(\"Top\", topn, \"items by price they were sold are:\")\n",
    "topn_outliers = outliers.sort_values('item_price', ascending=False)[:topn].join(\n",
    "    items.drop('item_category_id', axis=1), on='item_id')[['item_id', 'item_price', 'item_name']]\n",
    "topn_outliers"
   ]
  },
  {
   "cell_type": "markdown",
   "metadata": {},
   "source": [
    "Let's dig just a bit in what is happening. For instance, Radmin 3 is a software for remote support, system administartion and so on and it is not an coincidence that 522 copies of it cost so much. It is an outlier. Let's drop such items which don't meet in \"test\" and have price more then sertain treshold."
   ]
  },
  {
   "cell_type": "code",
   "execution_count": 17,
   "metadata": {},
   "outputs": [],
   "source": [
    "outliers = outliers[outliers['item_id'].isin(test['item_id'].unique()) == False]\n",
    "outliers = outliers[outliers['item_price'] >= 30000]\n",
    "\n",
    "indexes = outliers.index\n",
    "sales_train.drop(indexes, inplace=True)"
   ]
  },
  {
   "cell_type": "markdown",
   "metadata": {},
   "source": [
    "# 2.Data incompleteness\n",
    "It looks like the \"1\" value of \"item_cnt_day\" still dominates dataset, but is it a real truth? What about 0? \\\n",
    "\n",
    "Let's collect assortment of each shop and add records with 0 sales for each item in it. When we calculate \"target\" value, some of these records will no longer exist (as some items were sold), but others will show the lack of sales. \\\n",
    "\n",
    "P.S. \\\n",
    "Assortment can change in real life, but let's say that it caonstant for the whole abservation period"
   ]
  },
  {
   "cell_type": "code",
   "execution_count": 26,
   "metadata": {},
   "outputs": [],
   "source": [
    "assortment = sales_train.groupby('shop_id')['item_id'].unique()\n",
    "assortment = dict(zip(assortment.index, assortment.values))"
   ]
  },
  {
   "cell_type": "code",
   "execution_count": 33,
   "metadata": {},
   "outputs": [
    {
     "name": "stdout",
     "output_type": "stream",
     "text": [
      "We can add 424108 in our dataset for each month\n",
      "Size of our dataset is 2935796\n"
     ]
    }
   ],
   "source": [
    "item_records = 0\n",
    "for i in shops.index:\n",
    "    item_records += len(assortment[i])\n",
    "print(\"We can add\", item_records, \"in our dataset for each month\")\n",
    "print(\"Size of our dataset is\", len(sales_train))"
   ]
  },
  {
   "cell_type": "markdown",
   "metadata": {},
   "source": [
    "Looks to heavy, so let's include only random part of it."
   ]
  },
  {
   "cell_type": "code",
   "execution_count": 124,
   "metadata": {},
   "outputs": [],
   "source": [
    "# Attention: long proccessing\n",
    "sample_size = 100\n",
    "sp = []\n",
    "for shop_id in shops.index:\n",
    "    for date_block_num in range(34):\n",
    "        shop_records = pd.DataFrame(assortment[shop_id], columns=['item_id'])\n",
    "        shop_records['shop_id'], shop_records['date_block_num'], shop_records['item_cnt_day']  = shop_id, date_block_num, 0\n",
    "        shop_records.reindex(columns=['date_block_num', 'shop_id', 'item_id', 'item_cnt_day'])\n",
    "        \n",
    "        # Choose random sample for each shop and each data_block_num\n",
    "        indexes = len(shop_records.values.tolist())\n",
    "        sp += shop_records.iloc[np.random.choice(indexes, sample_size, replace=False)].values.tolist()\n",
    "        \n",
    "full_addiction = pd.DataFrame(sp, columns=['date_block_num', 'shop_id', 'item_id', 'item_cnt_day'])"
   ]
  },
  {
   "cell_type": "code",
   "execution_count": 125,
   "metadata": {},
   "outputs": [
    {
     "data": {
      "text/plain": [
       "(1997622,)"
      ]
     },
     "execution_count": 125,
     "metadata": {},
     "output_type": "execute_result"
    }
   ],
   "source": [
    "pd.concat([sales_train.drop(['date', 'item_category_id', 'item_price'], axis=1), full_addiction]).groupby(\n",
    "    ['date_block_num', 'shop_id', 'item_id', 'item_cnt_day'])['item_cnt_day'].sum().shape"
   ]
  },
  {
   "cell_type": "markdown",
   "metadata": {},
   "source": [
    "# 3. Sales' story"
   ]
  },
  {
   "cell_type": "code",
   "execution_count": null,
   "metadata": {},
   "outputs": [],
   "source": [
    "sales_train['date'] = pd.to_datetime(sales_train['date'])\n",
    "sales_train = sales_train.sort_values('date')"
   ]
  },
  {
   "cell_type": "markdown",
   "metadata": {},
   "source": [
    "# 4. Additional feature engineering"
   ]
  },
  {
   "cell_type": "code",
   "execution_count": 4,
   "metadata": {},
   "outputs": [],
   "source": [
    "# Parameters\n",
    "items_sample_size = 50\n",
    "\n",
    "# Include items and shops only from test\n",
    "test_shops = test['shop_id'].unique()\n",
    "test_items = test['item_id'].unique()\n",
    "\n",
    "data = sales_train[\n",
    "    sales_train['shop_id'].isin(test_shops) & \n",
    "    sales_train['item_id'].isin(test_items)].copy()\n",
    "\n",
    "# Collect item prices (taking into account that prices should not differ much from shop to shop)\n",
    "prices = sales_train.groupby(['item_id'])[['item_price']].mean()\n",
    "data.drop('item_price', axis = 1, inplace = True)\n",
    "\n",
    "# Drop column \"date\", which is not going to be used\n",
    "data.drop('date', axis = 1, inplace = True)\n",
    "\n",
    "# Get rid of mistakes in selection\n",
    "data = data[data['item_cnt_day'] >= 0]\n",
    "\n",
    "# If an item is not sold, our model should predict this fact\n",
    "sp = []\n",
    "for item in np.random.choice(test_items, items_sample_size, replace=False):\n",
    "    for date_block in range(34):\n",
    "        for shop in test_shops:\n",
    "            sp.append([date_block, shop, item, 0])\n",
    "zero_sales = pd.DataFrame(sp, columns = data.columns)\n",
    "data = pd.concat([data, zero_sales])\n",
    "\n",
    "# Making \"target\" values\n",
    "data = data.groupby([\"date_block_num\", \"shop_id\", \"item_id\"])['item_cnt_day'].sum().reset_index()\n",
    "data.rename(columns = {'item_cnt_day' : 'target'}, inplace=True)\n",
    "data.loc[:, ('target')] = data['target'].astype('int32')\n",
    "\n",
    "# Add categories' info\n",
    "data = data.join(items.set_index('item_id')['item_category_id'], on='item_id')\n",
    "data = data.join(prices, on=['item_id'])\n",
    "\n",
    "# Change test to a format of \"data\" variable\n",
    "build_test = test.join(items.set_index('item_id')['item_category_id'], on='item_id')\n",
    "build_test = build_test.join(prices, on='item_id')\n",
    "build_test.drop('ID', axis=1, inplace=True)\n",
    "\n",
    "# Add \"date_block_num\" information\n",
    "build_test['date_block_num'] = 34\n",
    "build_test = build_test.reindex(columns=[\"date_block_num\"] + list(build_test.columns)[:-1])"
   ]
  },
  {
   "cell_type": "code",
   "execution_count": 260,
   "metadata": {
    "scrolled": true
   },
   "outputs": [
    {
     "name": "stdout",
     "output_type": "stream",
     "text": [
      "\"Radmin 3\" item was bought 0 times\n"
     ]
    }
   ],
   "source": [
    "print('\\\"Radmin 3\\\" item was bought', len(sales_train[sales_train['item_id'] == 6066]), 'times')"
   ]
  },
  {
   "cell_type": "code",
   "execution_count": 8,
   "metadata": {},
   "outputs": [
    {
     "data": {
      "image/png": "[encoded data removed]",
      "text/plain": [
       "<Figure size 864x648 with 1 Axes>"
      ]
     },
     "metadata": {
      "needs_background": "light"
     },
     "output_type": "display_data"
    }
   ],
   "source": [
    "# Set up the matplotlib figure\n",
    "f, ax = plt.subplots(figsize=(12, 9))\n",
    "\n",
    "# Draw the heatmap with the mask and correct aspect ratio\n",
    "sns.heatmap(corr, center = 0.,\n",
    "            cmap=sns.diverging_palette(220, 10, as_cmap=True), \n",
    "            annot=True, cbar=False, square=True)\n",
    "\n",
    "plt.yticks(rotation = 0)\n",
    "plt.xticks(rotation = 0)\n",
    "    \n",
    "plt.show()"
   ]
  },
  {
   "cell_type": "markdown",
   "metadata": {},
   "source": [
    "Let's conider the following format of data (conditions for the work of the code below): \\\n",
    "**Columns** : shop_id - item_id - item_category_id - item_price \\\n",
    "shop_id, item_id, item_category_id can't have NaNs \\\n",
    "item_price can have NaNs"
   ]
  },
  {
   "cell_type": "code",
   "execution_count": 19,
   "metadata": {},
   "outputs": [],
   "source": [
    "# This function makes features which depend on a part of known dataset, such as mean values\n",
    "# Also it doesn't matter if \"test_input\" has \"target\" column (for validation) or not (for the real test)\n",
    "def preparation(data_input, test_input, mean_encoding, indexes_union_for_dummies):  \n",
    "    data_train = data_input.copy()\n",
    "    data_train.loc[:, 'item_price'].fillna(data_train['item_price'].mean(), inplace=True)\n",
    "\n",
    "    data_test = test_input.copy()\n",
    "    data_test.loc[:, 'item_price'].fillna(data_train['item_price'].mean(), inplace=True)\n",
    "    \n",
    "    # Mean encoding\n",
    "    for column in mean_encoding:\n",
    "        collect_means = data_train.groupby(column)[['target']].mean()\n",
    "        collect_means.rename(columns = {'target' : 'mean_' + column}, inplace=True)\n",
    "\n",
    "        data_train = data_train.join(collect_means, on=column)\n",
    "        data_test = data_test.join(collect_means, on=column)\n",
    "        data_test = data_test.fillna(method='ffill', axis=1)\n",
    "       \n",
    "    # One Hot encoding\n",
    "    for column in list(indexes_union_for_dummies.keys()):\n",
    "        ids_union = indexes_union_for_dummies[column]\n",
    "        data_train.loc[:, column] = data_train[column].astype(pd.CategoricalDtype(categories=ids_union))\n",
    "        data_test.loc[:, column] = data_test[column].astype(pd.CategoricalDtype(categories=ids_union))\n",
    "\n",
    "        data_train = data_train.join(pd.get_dummies(data_train[column], prefix=column))\n",
    "        data_test = data_test.join(pd.get_dummies(data_test[column], prefix=column))\n",
    "\n",
    "        data_train.drop(column, axis=1, inplace=True)\n",
    "        data_test.drop(column, axis=1, inplace=True)\n",
    "        \n",
    "    return data_train, data_test"
   ]
  },
  {
   "cell_type": "markdown",
   "metadata": {},
   "source": [
    "#### Approach 0: Linear Regression"
   ]
  },
  {
   "cell_type": "code",
   "execution_count": 56,
   "metadata": {},
   "outputs": [
    {
     "name": "stdout",
     "output_type": "stream",
     "text": [
      "104.9424183467713\n",
      "109.95931521177557\n",
      "142.80673025987474\n",
      "113.93789702529644\n",
      "104.41515470788808\n"
     ]
    }
   ],
   "source": [
    "kf5 = KFold(n_splits = 5, shuffle=True)\n",
    "indexes_union_for_dummies = dict()\n",
    "mean_encoding =  []\n",
    "\n",
    "for train_index, test_index in kf5.split(data):\n",
    "    data_train, data_test = preparation(data.loc[train_index], data.loc[test_index], mean_encoding, indexes_union_for_dummies)\n",
    "    \n",
    "    X_train, X_test = data_train.drop('target', axis = 1), data_test.drop('target', axis = 1)\n",
    "    y_train, y_test = data_train['target'].astype('float32'), data_test['target'].astype('float32')\n",
    "    \n",
    "    lr = linear_model.LinearRegression()\n",
    "    lr.fit(X_train, y_train)\n",
    "    print(metrics.mean_squared_error(y_test, lr.predict(X_test)))"
   ]
  },
  {
   "cell_type": "markdown",
   "metadata": {},
   "source": [
    "#### Approach 1 : Mean encoding, Linear Regression"
   ]
  },
  {
   "cell_type": "code",
   "execution_count": 57,
   "metadata": {
    "scrolled": true
   },
   "outputs": [
    {
     "name": "stdout",
     "output_type": "stream",
     "text": [
      "75.9559944797769\n",
      "79.74611194506095\n",
      "60.093020590337574\n",
      "103.83677194208866\n",
      "59.1070037994563\n"
     ]
    }
   ],
   "source": [
    "kf5 = KFold(n_splits = 5, shuffle=True)\n",
    "indexes_union_for_dummies = dict()\n",
    "mean_encoding =  ['shop_id', 'item_id', 'item_category_id']\n",
    "\n",
    "for train_index, test_index in kf5.split(data):\n",
    "    data_train, data_test = preparation(data.loc[train_index], data.loc[test_index], mean_encoding, indexes_union_for_dummies)\n",
    "    \n",
    "    X_train, X_test = data_train.drop('target', axis = 1), data_test.drop('target', axis = 1)\n",
    "    y_train, y_test = data_train['target'].astype('float32'), data_test['target'].astype('float32')\n",
    "    \n",
    "    lr = linear_model.LinearRegression()\n",
    "    lr.fit(X_train, y_train)\n",
    "    print(metrics.mean_squared_error(y_test, lr.predict(X_test)))"
   ]
  },
  {
   "cell_type": "markdown",
   "metadata": {},
   "source": [
    "#### Approach 2 : Mean encoding, One Hot encoding, Linear Regression"
   ]
  },
  {
   "cell_type": "code",
   "execution_count": 20,
   "metadata": {
    "scrolled": true
   },
   "outputs": [
    {
     "name": "stdout",
     "output_type": "stream",
     "text": [
      "97.12592194538212\n",
      "50.254617465669334\n",
      "67.21406253718759\n",
      "85.40748603954867\n",
      "77.5712757397218\n"
     ]
    }
   ],
   "source": [
    "kf5 = KFold(n_splits = 5, shuffle=True)\n",
    "indexes_union_for_dummies = dict()\n",
    "mean_encoding =  ['shop_id', 'item_id', 'item_category_id']\n",
    "for column in ['shop_id', 'item_category_id']:\n",
    "    indexes_union_for_dummies[column] = list(set(build_test[column].unique().tolist()).union(set(data[column].unique().tolist())))\n",
    "\n",
    "for train_index, test_index in kf5.split(data):\n",
    "    data_train, data_test = preparation(data.loc[train_index], data.loc[test_index], mean_encoding, indexes_union_for_dummies)\n",
    "    \n",
    "    X_train, X_test = data_train.drop('target', axis = 1), data_test.drop('target', axis = 1)\n",
    "    y_train, y_test = data_train['target'].astype('float32'), data_test['target'].astype('float32')\n",
    "    \n",
    "    lr = linear_model.LinearRegression()\n",
    "    lr.fit(X_train, y_train)\n",
    "    print(metrics.mean_squared_error(y_test, lr.predict(X_test)))"
   ]
  },
  {
   "cell_type": "markdown",
   "metadata": {},
   "source": [
    "So I have chosen approach N"
   ]
  },
  {
   "cell_type": "code",
   "execution_count": 54,
   "metadata": {
    "scrolled": true
   },
   "outputs": [
    {
     "data": {
      "text/plain": [
       "LinearRegression(copy_X=True, fit_intercept=True, n_jobs=None, normalize=False)"
      ]
     },
     "execution_count": 54,
     "metadata": {},
     "output_type": "execute_result"
    }
   ],
   "source": [
    "mean_encoding =  ['shop_id', 'item_id', 'item_category_id']\n",
    "for column in ['shop_id', 'item_category_id']:\n",
    "    indexes_union_for_dummies[column] = list(set(build_test[column].unique().tolist()).union(set(data[column].unique().tolist())))\n",
    "    \n",
    "data_train, data_test = preparation(data, build_test, mean_encoding, indexes_union_for_dummies)\n",
    "\n",
    "lr = linear_model.LinearRegression()\n",
    "lr.fit(data_train.drop('target', axis = 1), data_train['target'].astype('float32'))"
   ]
  },
  {
   "cell_type": "code",
   "execution_count": 55,
   "metadata": {},
   "outputs": [],
   "source": [
    "submission = pd.DataFrame(lr.predict(data_test))\n",
    "\n",
    "submission.index.name = 'ID'\n",
    "submission.columns = ['item_cnt_month']\n",
    "\n",
    "submission.to_csv('./results/submbission.csv')"
   ]
  }
 ],
 "metadata": {
  "kernelspec": {
   "display_name": "Python 3",
   "language": "python",
   "name": "python3"
  },
  "language_info": {
   "codemirror_mode": {
    "name": "ipython",
    "version": 3
   },
   "file_extension": ".py",
   "mimetype": "text/x-python",
   "name": "python",
   "nbconvert_exporter": "python",
   "pygments_lexer": "ipython3",
   "version": "3.7.4"
  }
 },
 "nbformat": 4,
 "nbformat_minor": 2
}
