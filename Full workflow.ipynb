{
 "cells": [
  {
   "cell_type": "code",
   "execution_count": 2,
   "metadata": {},
   "outputs": [],
   "source": [
    "# Modules import\n",
    "import pandas as pd\n",
    "import numpy as np\n",
    "import matplotlib.pyplot as plt\n",
    "import seaborn as sns\n",
    "\n",
    "from sklearn.model_selection import KFold\n",
    "from sklearn import linear_model\n",
    "from sklearn import metrics\n",
    "\n",
    "# Settings\n",
    "pd.set_option('display.max_rows', 200)\n",
    "pd.set_option('display.max_columns', 100)\n",
    "sns.set(style=\"white\")"
   ]
  },
  {
   "cell_type": "code",
   "execution_count": 149,
   "metadata": {},
   "outputs": [],
   "source": [
    "# Import data\n",
    "sales_train        = pd.read_csv('./readonly/sales_train.csv')\n",
    "test               = pd.read_csv('./readonly/test.csv')\n",
    "items              = pd.read_csv('./readonly/items.csv').set_index('item_id')\n",
    "item_categories    = pd.read_csv('./readonly/item_categories.csv').set_index('item_category_id')\n",
    "shops              = pd.read_csv('./readonly/shops.csv')"
   ]
  },
  {
   "cell_type": "markdown",
   "metadata": {},
   "source": [
    "Lets consider what is hapenning with the value, which forms our target value. First idea is to watch a destribution plot and understand what happens with outliers."
   ]
  },
  {
   "cell_type": "code",
   "execution_count": 4,
   "metadata": {
    "scrolled": true
   },
   "outputs": [
    {
     "data": {
      "image/png": "[encoded data removed]",
      "text/plain": [
       "<Figure size 1296x288 with 2 Axes>"
      ]
     },
     "metadata": {
      "needs_background": "light"
     },
     "output_type": "display_data"
    }
   ],
   "source": [
    "fig, ax = plt.subplots(1, 2, figsize = (18, 4))\n",
    "sns.boxplot(sales_train['item_cnt_day'], ax = ax[0])\n",
    "sns.boxplot(sales_train['item_price'], ax = ax[1])\n",
    "plt.show()"
   ]
  },
  {
   "cell_type": "markdown",
   "metadata": {},
   "source": [
    "According to the destribution there are sertain outliers in both cases. Let's dig into them and try to find any trends"
   ]
  },
  {
   "cell_type": "code",
   "execution_count": 92,
   "metadata": {},
   "outputs": [],
   "source": [
    "# Let \"counts\" be an table in which every unique value of \"item_cnt_day\" column has a number of it's inclusions in data.\n",
    "# Then let's take the i-th maximum nI (number of inclusions) and separate values of \"count\" table by this threshold.\n",
    "# \"proper_sales\" dataframe will only include rows with \"item_cnt_day\" values, which nI is not less then threshold\n",
    "i = 8\n",
    "\n",
    "counts = sales_train['item_cnt_day'].value_counts()\n",
    "unique_counts_values = counts.sort_values().unique()\n",
    "threshold = counts[unique_counts_values[min(i, unique_counts_values.shape[0] - 1)]]\n",
    "\n",
    "proper_values = counts[counts >= threshold].index\n",
    "proper_sales = sales_train[sales_train['item_cnt_day'].isin(proper_values)]\n",
    "\n",
    "improper_sales = sales_train.drop(proper_sales.index)\n",
    "\n",
    "assert proper_sales.shape[0] + improper_sales.shape[0] == sales_train.shape[0], \"Wrong sizes\""
   ]
  },
  {
   "cell_type": "code",
   "execution_count": 185,
   "metadata": {
    "scrolled": false
   },
   "outputs": [
    {
     "name": "stdout",
     "output_type": "stream",
     "text": [
      "From top 10 items by inclusions in \"improper\" items meet in \"test\" part of data:\n",
      "20949 (4998 inclusions) - Подарки - Сумки, Альбомы, Коврики д/мыши - Фирменный пакет майка 1С Интерес белый (34*42) 45 мкм\n",
      "2808 (282 inclusions) - Игры PC - Стандартные издания - Diablo III [PC, Jewel, русская версия]\n",
      "3732 (198 inclusions) - Игры - PS3 - Grand Theft Auto V [PS3, русские субтитры]\n",
      "3731 (159 inclusions) - Игры PC - Стандартные издания - Grand Theft Auto V [PC, русские субтитры]\n",
      "11370 (157 inclusions) - Доставка товара - Доставка (по Москве)\n",
      "3734 (133 inclusions) - Игры - XBOX 360 - Grand Theft Auto V [Xbox 360, русские субтитры]\n",
      "6675 (118 inclusions) - Игровые консоли - PS4 - Sony PlayStation 4 (500 Gb) Black (CUH-1008A/1108A/B01)\n",
      "11373 (106 inclusions) - Доставка товара - Доставка до пункта выдачи (Boxberry)\n",
      "3331 (103 inclusions) - Игры PC - Стандартные издания - FIFA 14 [PC, русская версия]\n"
     ]
    }
   ],
   "source": [
    "topn = 10\n",
    "print('From top', topn, 'items by inclusions in \\\"improper\\\" items meet in \\\"test\\\" part of data:')\n",
    "for i in improper_sales['item_id'].value_counts().sort_values(ascending=False).index[:topn]:\n",
    "    if i in test['item_id'].unique():\n",
    "        print(i, ' (', improper_sales['item_id'].value_counts().sort_values(ascending=False)[i], ' inclusions) - ',\n",
    "              item_categories.loc[items.loc[i]['item_category_id']]['item_category_name'], ' - ',\n",
    "              items.loc[i]['item_name'],\n",
    "              sep='')"
   ]
  },
  {
   "cell_type": "markdown",
   "metadata": {},
   "source": [
    "Games are popular, so are the 1C special gifts (item 20949). Let's separate these categories from the rest of data and see, what can we get from it"
   ]
  },
  {
   "cell_type": "code",
   "execution_count": 80,
   "metadata": {
    "scrolled": true
   },
   "outputs": [],
   "source": [
    "# Just useful function to see if some value has changes with respect to group of other columns\n",
    "# Reminder: this function is a bt heavy\n",
    "def has_changes_column(data, group_columns, check_column):\n",
    "    group_data = data.groupby(group_columns)[[check_column]].nunique().reset_index()\n",
    "    group_data = group_data[group_data[check_column] != 1]\n",
    "    group_data['has_changes'] = True\n",
    "    group_data = group_data.loc[:, group_columns + ['has_changes']]\n",
    "    return pd.merge(data, group_data, on=group_columns, how='left')['has_changes'].fillna(False)"
   ]
  },
  {
   "cell_type": "code",
   "execution_count": 84,
   "metadata": {
    "scrolled": true
   },
   "outputs": [
    {
     "data": {
      "text/plain": [
       "False    2511462\n",
       "True      424387\n",
       "Name: has_changes, dtype: int64"
      ]
     },
     "execution_count": 84,
     "metadata": {},
     "output_type": "execute_result"
    }
   ],
   "source": [
    "has_changes_column(sales_train, ['date_block_num', 'shop_id', 'item_id'], 'item_price').value_counts()"
   ]
  },
  {
   "cell_type": "code",
   "execution_count": 98,
   "metadata": {
    "scrolled": false
   },
   "outputs": [
    {
     "data": {
      "image/png": "[encoded data removed]",
      "text/plain": [
       "<Figure size 1296x288 with 2 Axes>"
      ]
     },
     "metadata": {
      "needs_background": "light"
     },
     "output_type": "display_data"
    }
   ],
   "source": [
    "fig, ax = plt.subplots(1, 2, figsize = (18, 4))\n",
    "sns.boxplot(proper_sales['item_cnt_day'], ax = ax[0])\n",
    "sns.boxplot(proper_sales['item_price'], ax = ax[1])\n",
    "plt.show()"
   ]
  },
  {
   "cell_type": "markdown",
   "metadata": {},
   "source": [
    "It looks like the \"1\" value of \"item_cnt_day\" still dominates dataset, but is it real truth? What about 0?"
   ]
  },
  {
   "cell_type": "code",
   "execution_count": null,
   "metadata": {},
   "outputs": [],
   "source": [
    "sales_train"
   ]
  },
  {
   "cell_type": "code",
   "execution_count": null,
   "metadata": {},
   "outputs": [],
   "source": [
    "proper_sales = sales_train[sales_train['item_cnt_day'] <= ]"
   ]
  },
  {
   "cell_type": "code",
   "execution_count": 47,
   "metadata": {
    "collapsed": true
   },
   "outputs": [
    {
     "data": {
      "text/plain": [
       "-22.0            1\n",
       "-16.0            1\n",
       "-9.0             1\n",
       "-6.0             2\n",
       "-5.0             4\n",
       "-4.0             3\n",
       "-3.0            14\n",
       "-2.0            78\n",
       "-1.0          7252\n",
       " 1.0       2629372\n",
       " 2.0        194201\n",
       " 3.0         47350\n",
       " 4.0         19685\n",
       " 5.0         10474\n",
       " 6.0          6338\n",
       " 7.0          4057\n",
       " 8.0          2903\n",
       " 9.0          2177\n",
       " 10.0         1820\n",
       " 11.0         1263\n",
       " 12.0         1083\n",
       " 13.0          918\n",
       " 14.0          716\n",
       " 15.0          638\n",
       " 16.0          544\n",
       " 17.0          438\n",
       " 18.0          391\n",
       " 19.0          347\n",
       " 20.0          364\n",
       " 21.0          290\n",
       " 22.0          242\n",
       " 23.0          198\n",
       " 24.0          204\n",
       " 25.0          180\n",
       " 26.0          176\n",
       " 27.0          130\n",
       " 28.0          131\n",
       " 29.0          102\n",
       " 30.0          147\n",
       " 31.0          123\n",
       " 32.0          106\n",
       " 33.0           82\n",
       " 34.0           81\n",
       " 35.0           69\n",
       " 36.0           62\n",
       " 37.0           61\n",
       " 38.0           54\n",
       " 39.0           52\n",
       " 40.0           58\n",
       " 41.0           58\n",
       " 42.0           36\n",
       " 43.0           34\n",
       " 44.0           40\n",
       " 45.0           31\n",
       " 46.0           39\n",
       " 47.0           25\n",
       " 48.0           22\n",
       " 49.0           25\n",
       " 50.0           33\n",
       " 51.0           21\n",
       " 52.0           22\n",
       " 53.0           14\n",
       " 54.0           13\n",
       " 55.0           20\n",
       " 56.0           12\n",
       " 57.0           12\n",
       " 58.0            9\n",
       " 59.0           13\n",
       " 60.0           14\n",
       " 61.0           18\n",
       " 62.0           14\n",
       " 63.0            9\n",
       " 64.0           13\n",
       " 65.0           10\n",
       " 66.0            4\n",
       " 67.0           12\n",
       " 68.0            4\n",
       " 69.0            7\n",
       " 70.0            6\n",
       " 71.0            6\n",
       " 72.0           10\n",
       " 73.0            5\n",
       " 74.0            4\n",
       " 75.0            4\n",
       " 76.0            2\n",
       " 77.0            4\n",
       " 78.0            6\n",
       " 79.0            4\n",
       " 80.0           12\n",
       " 81.0            6\n",
       " 82.0            8\n",
       " 83.0            4\n",
       " 84.0            8\n",
       " 85.0            2\n",
       " 86.0            2\n",
       " 87.0            8\n",
       " 88.0            3\n",
       " 89.0            4\n",
       " 90.0            3\n",
       " 91.0            2\n",
       " 92.0            2\n",
       " 93.0            1\n",
       " 95.0            1\n",
       " 96.0            1\n",
       " 97.0            5\n",
       " 98.0            6\n",
       " 99.0            2\n",
       " 100.0          13\n",
       " 101.0           3\n",
       " 102.0           1\n",
       " 103.0           4\n",
       " 104.0           4\n",
       " 105.0           1\n",
       " 106.0           3\n",
       " 107.0           2\n",
       " 108.0           2\n",
       " 109.0           1\n",
       " 110.0           6\n",
       " 111.0           2\n",
       " 112.0           1\n",
       " 113.0           1\n",
       " 114.0           2\n",
       " 115.0           2\n",
       " 116.0           2\n",
       " 117.0           2\n",
       " 118.0           1\n",
       " 121.0           3\n",
       " 124.0           3\n",
       " 126.0           2\n",
       " 127.0           2\n",
       " 128.0           1\n",
       " 129.0           1\n",
       " 130.0           2\n",
       " 131.0           1\n",
       " 132.0           1\n",
       " 133.0           2\n",
       " 134.0           2\n",
       " 135.0           1\n",
       " 138.0           2\n",
       " 139.0           2\n",
       " 140.0           1\n",
       " 142.0           2\n",
       " 145.0           2\n",
       " 146.0           1\n",
       " 147.0           1\n",
       " 148.0           2\n",
       " 149.0           1\n",
       " 150.0           2\n",
       " 151.0           5\n",
       " 153.0           1\n",
       " 154.0           1\n",
       " 156.0           1\n",
       " 157.0           1\n",
       " 161.0           1\n",
       " 163.0           1\n",
       " 164.0           1\n",
       " 167.0           1\n",
       " 168.0           2\n",
       " 171.0           3\n",
       " 179.0           1\n",
       " 187.0           1\n",
       " 194.0           1\n",
       " 195.0           1\n",
       " 200.0           1\n",
       " 205.0           2\n",
       " 207.0           1\n",
       " 217.0           1\n",
       " 222.0           1\n",
       " 230.0           1\n",
       " 231.0           1\n",
       " 240.0           1\n",
       " 242.0           1\n",
       " 251.0           1\n",
       " 255.0           1\n",
       " 264.0           1\n",
       " 288.0           1\n",
       " 299.0           1\n",
       " 300.0           1\n",
       " 313.0           2\n",
       " 325.0           1\n",
       " 343.0           1\n",
       " 401.0           2\n",
       " 405.0           1\n",
       " 412.0           1\n",
       " 480.0           1\n",
       " 500.0           2\n",
       " 501.0           1\n",
       " 502.0           1\n",
       " 504.0           1\n",
       " 508.0           1\n",
       " 512.0           1\n",
       " 533.0           1\n",
       " 539.0           1\n",
       " 624.0           1\n",
       " 637.0           1\n",
       " 669.0           1\n",
       " 1000.0          1\n",
       " 2169.0          1\n",
       "Name: item_cnt_day, dtype: int64"
      ]
     },
     "execution_count": 47,
     "metadata": {},
     "output_type": "execute_result"
    }
   ],
   "source": [
    "sales_train['item_cnt_day'].value_counts().sort_index()"
   ]
  },
  {
   "cell_type": "code",
   "execution_count": 5,
   "metadata": {},
   "outputs": [],
   "source": [
    "hist, bin_edges = np.histogram(sales_train['item_cnt_day'])"
   ]
  },
  {
   "cell_type": "code",
   "execution_count": 6,
   "metadata": {
    "collapsed": true
   },
   "outputs": [
    {
     "data": {
      "image/png": "[encoded data removed]",
      "text/plain": [
       "<Figure size 432x288 with 1 Axes>"
      ]
     },
     "metadata": {
      "needs_background": "light"
     },
     "output_type": "display_data"
    }
   ],
   "source": [
    "plt.bar(bin_edges[:-1], hist, width = 0.5, color='#0504aa',alpha=0.7)\n",
    "plt.xlim(min(bin_edges), max(bin_edges))\n",
    "plt.ylim(min(hist), max(hist))\n",
    "plt.show()"
   ]
  },
  {
   "cell_type": "code",
   "execution_count": 40,
   "metadata": {
    "collapsed": true
   },
   "outputs": [
    {
     "data": {
      "image/png": "[encoded data removed]",
      "text/plain": [
       "<Figure size 1440x360 with 1 Axes>"
      ]
     },
     "metadata": {
      "needs_background": "light"
     },
     "output_type": "display_data"
    }
   ],
   "source": [
    "fig = plt.figure(figsize=(20, 5))\n",
    "plt.hist(sales_train['item_cnt_day'])\n",
    "plt.show()"
   ]
  },
  {
   "cell_type": "code",
   "execution_count": 4,
   "metadata": {},
   "outputs": [],
   "source": [
    "# Parameters\n",
    "items_sample_size = 50\n",
    "\n",
    "# Include items and shops only from test\n",
    "test_shops = test['shop_id'].unique()\n",
    "test_items = test['item_id'].unique()\n",
    "\n",
    "data = sales_train[\n",
    "    sales_train['shop_id'].isin(test_shops) & \n",
    "    sales_train['item_id'].isin(test_items)].copy()\n",
    "\n",
    "# Collect item prices (taking into account that prices should not differ much from shop to shop)\n",
    "prices = sales_train.groupby(['item_id'])[['item_price']].mean()\n",
    "data.drop('item_price', axis = 1, inplace = True)\n",
    "\n",
    "# Drop column \"date\", which is not going to be used\n",
    "data.drop('date', axis = 1, inplace = True)\n",
    "\n",
    "# Get rid of mistakes in selection\n",
    "data = data[data['item_cnt_day'] >= 0]\n",
    "\n",
    "# If an item is not sold, our model should predict this fact\n",
    "sp = []\n",
    "for item in np.random.choice(test_items, items_sample_size, replace=False):\n",
    "    for date_block in range(34):\n",
    "        for shop in test_shops:\n",
    "            sp.append([date_block, shop, item, 0])\n",
    "zero_sales = pd.DataFrame(sp, columns = data.columns)\n",
    "data = pd.concat([data, zero_sales])\n",
    "\n",
    "# Making \"target\" values\n",
    "data = data.groupby([\"date_block_num\", \"shop_id\", \"item_id\"])['item_cnt_day'].sum().reset_index()\n",
    "data.rename(columns = {'item_cnt_day' : 'target'}, inplace=True)\n",
    "data.loc[:, ('target')] = data['target'].astype('int32')\n",
    "\n",
    "# Add categories' info\n",
    "data = data.join(items.set_index('item_id')['item_category_id'], on='item_id')\n",
    "data = data.join(prices, on=['item_id'])\n",
    "\n",
    "# Change test to a format of \"data\" variable\n",
    "build_test = test.join(items.set_index('item_id')['item_category_id'], on='item_id')\n",
    "build_test = build_test.join(prices, on='item_id')\n",
    "build_test.drop('ID', axis=1, inplace=True)\n",
    "\n",
    "# Add \"date_block_num\" information\n",
    "build_test['date_block_num'] = 34\n",
    "build_test = build_test.reindex(columns=[\"date_block_num\"] + list(build_test.columns)[:-1])"
   ]
  },
  {
   "cell_type": "code",
   "execution_count": 8,
   "metadata": {},
   "outputs": [
    {
     "data": {
      "image/png": "[encoded data removed]",
      "text/plain": [
       "<Figure size 864x648 with 1 Axes>"
      ]
     },
     "metadata": {
      "needs_background": "light"
     },
     "output_type": "display_data"
    }
   ],
   "source": [
    "# Set up the matplotlib figure\n",
    "f, ax = plt.subplots(figsize=(12, 9))\n",
    "\n",
    "# Draw the heatmap with the mask and correct aspect ratio\n",
    "sns.heatmap(corr, center = 0.,\n",
    "            cmap=sns.diverging_palette(220, 10, as_cmap=True), \n",
    "            annot=True, cbar=False, square=True)\n",
    "\n",
    "plt.yticks(rotation = 0)\n",
    "plt.xticks(rotation = 0)\n",
    "    \n",
    "plt.show()"
   ]
  },
  {
   "cell_type": "markdown",
   "metadata": {},
   "source": [
    "Let's conider the following format of data (conditions for the work of the code below): \\\n",
    "**Columns** : shop_id - item_id - item_category_id - item_price \\\n",
    "shop_id, item_id, item_category_id can't have NaNs \\\n",
    "item_price can have NaNs"
   ]
  },
  {
   "cell_type": "code",
   "execution_count": 19,
   "metadata": {},
   "outputs": [],
   "source": [
    "# This function makes features which depend on a part of known dataset, such as mean values\n",
    "# Also it doesn't matter if \"test_input\" has \"target\" column (for validation) or not (for the real test)\n",
    "def preparation(data_input, test_input, mean_encoding, indexes_union_for_dummies):  \n",
    "    data_train = data_input.copy()\n",
    "    data_train.loc[:, 'item_price'].fillna(data_train['item_price'].mean(), inplace=True)\n",
    "\n",
    "    data_test = test_input.copy()\n",
    "    data_test.loc[:, 'item_price'].fillna(data_train['item_price'].mean(), inplace=True)\n",
    "    \n",
    "    # Mean encoding\n",
    "    for column in mean_encoding:\n",
    "        collect_means = data_train.groupby(column)[['target']].mean()\n",
    "        collect_means.rename(columns = {'target' : 'mean_' + column}, inplace=True)\n",
    "\n",
    "        data_train = data_train.join(collect_means, on=column)\n",
    "        data_test = data_test.join(collect_means, on=column)\n",
    "        data_test = data_test.fillna(method='ffill', axis=1)\n",
    "       \n",
    "    # One Hot encoding\n",
    "    for column in list(indexes_union_for_dummies.keys()):\n",
    "        ids_union = indexes_union_for_dummies[column]\n",
    "        data_train.loc[:, column] = data_train[column].astype(pd.CategoricalDtype(categories=ids_union))\n",
    "        data_test.loc[:, column] = data_test[column].astype(pd.CategoricalDtype(categories=ids_union))\n",
    "\n",
    "        data_train = data_train.join(pd.get_dummies(data_train[column], prefix=column))\n",
    "        data_test = data_test.join(pd.get_dummies(data_test[column], prefix=column))\n",
    "\n",
    "        data_train.drop(column, axis=1, inplace=True)\n",
    "        data_test.drop(column, axis=1, inplace=True)\n",
    "        \n",
    "    return data_train, data_test"
   ]
  },
  {
   "cell_type": "markdown",
   "metadata": {},
   "source": [
    "#### Approach 0: Linear Regression"
   ]
  },
  {
   "cell_type": "code",
   "execution_count": 56,
   "metadata": {},
   "outputs": [
    {
     "name": "stdout",
     "output_type": "stream",
     "text": [
      "104.9424183467713\n",
      "109.95931521177557\n",
      "142.80673025987474\n",
      "113.93789702529644\n",
      "104.41515470788808\n"
     ]
    }
   ],
   "source": [
    "kf5 = KFold(n_splits = 5, shuffle=True)\n",
    "indexes_union_for_dummies = dict()\n",
    "mean_encoding =  []\n",
    "\n",
    "for train_index, test_index in kf5.split(data):\n",
    "    data_train, data_test = preparation(data.loc[train_index], data.loc[test_index], mean_encoding, indexes_union_for_dummies)\n",
    "    \n",
    "    X_train, X_test = data_train.drop('target', axis = 1), data_test.drop('target', axis = 1)\n",
    "    y_train, y_test = data_train['target'].astype('float32'), data_test['target'].astype('float32')\n",
    "    \n",
    "    lr = linear_model.LinearRegression()\n",
    "    lr.fit(X_train, y_train)\n",
    "    print(metrics.mean_squared_error(y_test, lr.predict(X_test)))"
   ]
  },
  {
   "cell_type": "markdown",
   "metadata": {},
   "source": [
    "#### Approach 1 : Mean encoding, Linear Regression"
   ]
  },
  {
   "cell_type": "code",
   "execution_count": 57,
   "metadata": {
    "scrolled": true
   },
   "outputs": [
    {
     "name": "stdout",
     "output_type": "stream",
     "text": [
      "75.9559944797769\n",
      "79.74611194506095\n",
      "60.093020590337574\n",
      "103.83677194208866\n",
      "59.1070037994563\n"
     ]
    }
   ],
   "source": [
    "kf5 = KFold(n_splits = 5, shuffle=True)\n",
    "indexes_union_for_dummies = dict()\n",
    "mean_encoding =  ['shop_id', 'item_id', 'item_category_id']\n",
    "\n",
    "for train_index, test_index in kf5.split(data):\n",
    "    data_train, data_test = preparation(data.loc[train_index], data.loc[test_index], mean_encoding, indexes_union_for_dummies)\n",
    "    \n",
    "    X_train, X_test = data_train.drop('target', axis = 1), data_test.drop('target', axis = 1)\n",
    "    y_train, y_test = data_train['target'].astype('float32'), data_test['target'].astype('float32')\n",
    "    \n",
    "    lr = linear_model.LinearRegression()\n",
    "    lr.fit(X_train, y_train)\n",
    "    print(metrics.mean_squared_error(y_test, lr.predict(X_test)))"
   ]
  },
  {
   "cell_type": "markdown",
   "metadata": {},
   "source": [
    "#### Approach 2 : Mean encoding, One Hot encoding, Linear Regression"
   ]
  },
  {
   "cell_type": "code",
   "execution_count": 20,
   "metadata": {
    "scrolled": true
   },
   "outputs": [
    {
     "name": "stdout",
     "output_type": "stream",
     "text": [
      "97.12592194538212\n",
      "50.254617465669334\n",
      "67.21406253718759\n",
      "85.40748603954867\n",
      "77.5712757397218\n"
     ]
    }
   ],
   "source": [
    "kf5 = KFold(n_splits = 5, shuffle=True)\n",
    "indexes_union_for_dummies = dict()\n",
    "mean_encoding =  ['shop_id', 'item_id', 'item_category_id']\n",
    "for column in ['shop_id', 'item_category_id']:\n",
    "    indexes_union_for_dummies[column] = list(set(build_test[column].unique().tolist()).union(set(data[column].unique().tolist())))\n",
    "\n",
    "for train_index, test_index in kf5.split(data):\n",
    "    data_train, data_test = preparation(data.loc[train_index], data.loc[test_index], mean_encoding, indexes_union_for_dummies)\n",
    "    \n",
    "    X_train, X_test = data_train.drop('target', axis = 1), data_test.drop('target', axis = 1)\n",
    "    y_train, y_test = data_train['target'].astype('float32'), data_test['target'].astype('float32')\n",
    "    \n",
    "    lr = linear_model.LinearRegression()\n",
    "    lr.fit(X_train, y_train)\n",
    "    print(metrics.mean_squared_error(y_test, lr.predict(X_test)))"
   ]
  },
  {
   "cell_type": "markdown",
   "metadata": {},
   "source": [
    "So I have chosen approach N"
   ]
  },
  {
   "cell_type": "code",
   "execution_count": 54,
   "metadata": {
    "scrolled": true
   },
   "outputs": [
    {
     "data": {
      "text/plain": [
       "LinearRegression(copy_X=True, fit_intercept=True, n_jobs=None, normalize=False)"
      ]
     },
     "execution_count": 54,
     "metadata": {},
     "output_type": "execute_result"
    }
   ],
   "source": [
    "mean_encoding =  ['shop_id', 'item_id', 'item_category_id']\n",
    "for column in ['shop_id', 'item_category_id']:\n",
    "    indexes_union_for_dummies[column] = list(set(build_test[column].unique().tolist()).union(set(data[column].unique().tolist())))\n",
    "    \n",
    "data_train, data_test = preparation(data, build_test, mean_encoding, indexes_union_for_dummies)\n",
    "\n",
    "lr = linear_model.LinearRegression()\n",
    "lr.fit(data_train.drop('target', axis = 1), data_train['target'].astype('float32'))"
   ]
  },
  {
   "cell_type": "code",
   "execution_count": 55,
   "metadata": {},
   "outputs": [],
   "source": [
    "submission = pd.DataFrame(lr.predict(data_test))\n",
    "\n",
    "submission.index.name = 'ID'\n",
    "submission.columns = ['item_cnt_month']\n",
    "\n",
    "submission.to_csv('./results/submbission.csv')"
   ]
  }
 ],
 "metadata": {
  "kernelspec": {
   "display_name": "Python 3",
   "language": "python",
   "name": "python3"
  },
  "language_info": {
   "codemirror_mode": {
    "name": "ipython",
    "version": 3
   },
   "file_extension": ".py",
   "mimetype": "text/x-python",
   "name": "python",
   "nbconvert_exporter": "python",
   "pygments_lexer": "ipython3",
   "version": "3.7.4"
  }
 },
 "nbformat": 4,
 "nbformat_minor": 2
}
