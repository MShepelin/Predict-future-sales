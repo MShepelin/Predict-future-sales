{
 "cells": [
  {
   "cell_type": "markdown",
   "metadata": {},
   "source": [
    "# Model tuning\n",
    "- Interactive tuning\n",
    "- Parameters selection\n",
    "- Clear solution pipeline"
   ]
  },
  {
   "cell_type": "code",
   "execution_count": 1,
   "metadata": {},
   "outputs": [],
   "source": [
    "# Modules import\n",
    "import pandas as pd\n",
    "import numpy as np\n",
    "import matplotlib.pyplot as plt\n",
    "import seaborn as sns\n",
    "\n",
    "from sklearn.model_selection import KFold\n",
    "from sklearn import linear_model, metrics, preprocessing\n",
    "\n",
    "from time import time\n",
    "from tqdm import tqdm\n",
    "\n",
    "# Settings\n",
    "pd.set_option('display.max_rows', 200)\n",
    "pd.set_option('display.max_columns', 100)\n",
    "sns.set(style=\"white\")"
   ]
  },
  {
   "cell_type": "code",
   "execution_count": 2,
   "metadata": {},
   "outputs": [],
   "source": [
    "data_validation = pd.read_csv('./results/dataset_for_validation.csv').drop('index', axis=1)\n",
    "data_full = pd.read_csv('./results/dataset_for_test.csv')\n",
    "val_answers = pd.read_csv('./results/validation_answers.csv', header=None)"
   ]
  },
  {
   "cell_type": "code",
   "execution_count": 3,
   "metadata": {},
   "outputs": [],
   "source": [
    "submision_sample = pd.read_csv('./readonly/sample_submission.csv')"
   ]
  },
  {
   "cell_type": "code",
   "execution_count": 4,
   "metadata": {},
   "outputs": [],
   "source": [
    "data_validation['revenue_std'].replace({np.inf: -1}, inplace=True)\n",
    "data_full['revenue_std'].replace({np.inf: -1}, inplace=True)"
   ]
  },
  {
   "cell_type": "code",
   "execution_count": 5,
   "metadata": {},
   "outputs": [],
   "source": [
    "from sklearn.ensemble import RandomForestRegressor, RandomForestClassifier\n",
    "from sklearn.linear_model import LinearRegression, SGDRegressor, SGDClassifier\n",
    "from lightgbm import LGBMRegressor, LGBMClassifier\n",
    "from xgboost import XGBRegressor\n",
    "from sklearn.neighbors import KNeighborsRegressor, KNeighborsClassifier\n",
    "\n",
    "from sklearn.metrics import mean_squared_error as mse"
   ]
  },
  {
   "cell_type": "markdown",
   "metadata": {},
   "source": [
    "Few words should be said about unpacking our data. To separate our test and train data we use \"date_block_num\" value, but then we should make a feature out of it by making a number of month out of it."
   ]
  },
  {
   "cell_type": "markdown",
   "metadata": {},
   "source": [
    "Validation, methods comparison."
   ]
  },
  {
   "cell_type": "code",
   "execution_count": 9,
   "metadata": {},
   "outputs": [],
   "source": [
    "X_train = data_validation[data_validation['date_block_num'] < 33].drop('target', axis=1)\n",
    "X_test = data_validation[data_validation['date_block_num'] == 33].drop('target', axis=1)\n",
    "y_train = data_validation[data_validation['date_block_num'] < 33]['target']\n",
    "y_test = val_answers[1]\n",
    "\n",
    "X_train['date_block_num'] %= 12\n",
    "X_test['date_block_num'] %= 12"
   ]
  },
  {
   "cell_type": "markdown",
   "metadata": {},
   "source": [
    "**Basic lgbm**. It was vey helpful to use it to find out if dataset was built correctly without leakages and with needed features. Also it can be used to understand number of records from data to train on (training on the whole thing lead to overfitting)."
   ]
  },
  {
   "cell_type": "code",
   "execution_count": 58,
   "metadata": {},
   "outputs": [],
   "source": [
    "n = 40000\n",
    "mask = np.random.choice(X_train.index, n, replace=False)"
   ]
  },
  {
   "cell_type": "code",
   "execution_count": 69,
   "metadata": {
    "scrolled": true
   },
   "outputs": [
    {
     "name": "stdout",
     "output_type": "stream",
     "text": [
      "mse is 1.6504949148937924\n",
      "Time spent: 6.488531589508057\n"
     ]
    }
   ],
   "source": [
    "time_start = time()\n",
    "lgbm = LGBMRegressor(n_estimators=100, n_jobs=8)\n",
    "lgbm.fit(X_train.loc[mask], y_train[mask])\n",
    "\n",
    "print(\"mse is\", mse(y_test, lgbm.predict(X_test.fillna(0)).clip(0, 20)))\n",
    "print(\"Time spent:\", time() - time_start)"
   ]
  },
  {
   "cell_type": "code",
   "execution_count": 70,
   "metadata": {
    "scrolled": true
   },
   "outputs": [
    {
     "name": "stdout",
     "output_type": "stream",
     "text": [
      "mse is 1.1890721863779208\n"
     ]
    }
   ],
   "source": [
    "print(\"mse is\", mse(y_train[:100000], lgbm.predict(X_train[:100000].fillna(0)).clip(0, 20)))"
   ]
  },
  {
   "cell_type": "code",
   "execution_count": 71,
   "metadata": {},
   "outputs": [
    {
     "data": {
      "text/html": [
       "<div>\n",
       "<style scoped>\n",
       "    .dataframe tbody tr th:only-of-type {\n",
       "        vertical-align: middle;\n",
       "    }\n",
       "\n",
       "    .dataframe tbody tr th {\n",
       "        vertical-align: top;\n",
       "    }\n",
       "\n",
       "    .dataframe thead th {\n",
       "        text-align: right;\n",
       "    }\n",
       "</style>\n",
       "<table border=\"1\" class=\"dataframe\">\n",
       "  <thead>\n",
       "    <tr style=\"text-align: right;\">\n",
       "      <th></th>\n",
       "      <th>Value</th>\n",
       "      <th>Feature</th>\n",
       "    </tr>\n",
       "  </thead>\n",
       "  <tbody>\n",
       "    <tr>\n",
       "      <th>179</th>\n",
       "      <td>75</td>\n",
       "      <td>shop_id_freq_lag_1</td>\n",
       "    </tr>\n",
       "    <tr>\n",
       "      <th>180</th>\n",
       "      <td>78</td>\n",
       "      <td>item_category_id_freq_lag_1</td>\n",
       "    </tr>\n",
       "    <tr>\n",
       "      <th>181</th>\n",
       "      <td>78</td>\n",
       "      <td>revenue_lag_2</td>\n",
       "    </tr>\n",
       "    <tr>\n",
       "      <th>182</th>\n",
       "      <td>92</td>\n",
       "      <td>revenue_lag_1</td>\n",
       "    </tr>\n",
       "    <tr>\n",
       "      <th>183</th>\n",
       "      <td>98</td>\n",
       "      <td>revenue_std</td>\n",
       "    </tr>\n",
       "    <tr>\n",
       "      <th>184</th>\n",
       "      <td>98</td>\n",
       "      <td>target_std</td>\n",
       "    </tr>\n",
       "    <tr>\n",
       "      <th>185</th>\n",
       "      <td>103</td>\n",
       "      <td>item_id_freq_lag_1</td>\n",
       "    </tr>\n",
       "    <tr>\n",
       "      <th>186</th>\n",
       "      <td>123</td>\n",
       "      <td>target_lag_1</td>\n",
       "    </tr>\n",
       "    <tr>\n",
       "      <th>187</th>\n",
       "      <td>130</td>\n",
       "      <td>item_id_target_mean_lag_1</td>\n",
       "    </tr>\n",
       "    <tr>\n",
       "      <th>188</th>\n",
       "      <td>173</td>\n",
       "      <td>date_block_num</td>\n",
       "    </tr>\n",
       "  </tbody>\n",
       "</table>\n",
       "</div>"
      ],
      "text/plain": [
       "     Value                      Feature\n",
       "179     75           shop_id_freq_lag_1\n",
       "180     78  item_category_id_freq_lag_1\n",
       "181     78                revenue_lag_2\n",
       "182     92                revenue_lag_1\n",
       "183     98                  revenue_std\n",
       "184     98                   target_std\n",
       "185    103           item_id_freq_lag_1\n",
       "186    123                 target_lag_1\n",
       "187    130    item_id_target_mean_lag_1\n",
       "188    173               date_block_num"
      ]
     },
     "execution_count": 71,
     "metadata": {},
     "output_type": "execute_result"
    }
   ],
   "source": [
    "feature_imp = pd.DataFrame(sorted(zip(lgbm.feature_importances_, X_train.columns)), columns=['Value','Feature'])\n",
    "feature_imp[-10:]"
   ]
  },
  {
   "cell_type": "markdown",
   "metadata": {},
   "source": [
    "**Bagging model**."
   ]
  },
  {
   "cell_type": "code",
   "execution_count": 11,
   "metadata": {},
   "outputs": [],
   "source": [
    "class BaggingModel():\n",
    "    def __init__(self, arguments: list, name, verbose=False):\n",
    "        self.bag_of_models = []\n",
    "        self.name = name\n",
    "        self.verbose=verbose\n",
    "        \n",
    "        for pair in arguments:\n",
    "            if 'lgbm' == pair[0]:\n",
    "                self.bag_of_models.append(LGBMRegressor(**pair[1]))\n",
    "\n",
    "            if 'knn' == pair[0]:\n",
    "                self.bag_of_models.append(KNeighborsRegressor(**pair[1]))\n",
    "                \n",
    "        \n",
    "    def predict(self, X_test):\n",
    "        answer = np.zeros(X_test.shape[0])\n",
    "        \n",
    "        if self.verbose:\n",
    "            print(self.name, \"is predicting...\")\n",
    "            for model in tqdm(self.bag_of_models):\n",
    "                answer +=  model.predict(X_test)\n",
    "            print(self.name, \"finished predicting\")\n",
    "            \n",
    "        else:\n",
    "            for model in self.bag_of_models:\n",
    "                answer +=  model.predict(X_test)\n",
    "            \n",
    "        answer /= len(self.bag_of_models)\n",
    "        \n",
    "        return answer\n",
    "        \n",
    "        \n",
    "    def fit(self, X_train, y_train):    \n",
    "        if self.verbose:\n",
    "            print(self.name, \"is fitting...\")\n",
    "            for model in tqdm(self.bag_of_models):\n",
    "                model.fit(X_train, y_train)\n",
    "            print(self.name, \"finished fitting\")\n",
    "                \n",
    "        else:\n",
    "            for model in self.bag_of_models:\n",
    "                model.fit(X_train, y_train) "
   ]
  },
  {
   "cell_type": "code",
   "execution_count": 73,
   "metadata": {
    "scrolled": false
   },
   "outputs": [
    {
     "name": "stdout",
     "output_type": "stream",
     "text": [
      "LGBM_Bagging is fitting...\n"
     ]
    },
    {
     "name": "stderr",
     "output_type": "stream",
     "text": [
      "100%|████████████████████████████████████████████| 3/3 [00:11<00:00,  3.67s/it]\n"
     ]
    },
    {
     "name": "stdout",
     "output_type": "stream",
     "text": [
      "LGBM_Bagging finished fitting\n",
      "LGBM_Bagging is predicting...\n"
     ]
    },
    {
     "name": "stderr",
     "output_type": "stream",
     "text": [
      "100%|████████████████████████████████████████████| 3/3 [00:03<00:00,  1.30s/it]\n"
     ]
    },
    {
     "name": "stdout",
     "output_type": "stream",
     "text": [
      "LGBM_Bagging finished predicting\n",
      "mse is 1.6380050015025853\n",
      "Time spent: 15.728785514831543\n"
     ]
    }
   ],
   "source": [
    "time_start = time()\n",
    "model = BaggingModel([('lgbm', {'n_estimators': 64, 'n_jobs': 8, 'random_state': 42, 'num_leaves': 64}), \n",
    "                       ('lgbm', {'n_estimators': 128, 'n_jobs': 8, 'random_state': 42, 'num_leaves': 32}),\n",
    "                       ('lgbm', {'n_estimators': 128, 'n_jobs': 8, 'random_state': 42, 'num_leaves': 16})\n",
    "                     ], 'LGBM_Bagging', True)\n",
    "model.fit(X_train.loc[mask], y_train[mask])\n",
    "\n",
    "print(\"mse is\", mse(y_test, model.predict(X_test.fillna(0))))\n",
    "print(\"Time spent:\", time() - time_start)"
   ]
  },
  {
   "cell_type": "markdown",
   "metadata": {},
   "source": [
    "**Stacking**."
   ]
  },
  {
   "cell_type": "code",
   "execution_count": 12,
   "metadata": {},
   "outputs": [],
   "source": [
    "class StackingModel():\n",
    "    def __init__(self, name):\n",
    "        self.name = name\n",
    "        self.levels = []\n",
    "        \n",
    "    def append(self, models: list):\n",
    "        assert models != [], \"Input is empty\"\n",
    "        self.levels.append(models)\n",
    "    \n",
    "    def predict(self, X_test):\n",
    "        assert self.levels != [], \"Model is empty\"\n",
    "        assert self.levels[-1], \"Model has wrong output\"\n",
    "        \n",
    "        print(self.name, \"is predicting...\")\n",
    "        \n",
    "        level_output = X_test\n",
    "        for level in tqdm(self.levels):\n",
    "            level_output = np.concatenate([\n",
    "                model.predict(level_output).reshape(-1, 1) for model in level\n",
    "            ], axis=1)\n",
    "        \n",
    "        print(self.name, \"finished predicting\")\n",
    "        \n",
    "        return level_output.reshape(-1, 1)\n",
    "        \n",
    "    def fit(self, X_train, y_train):\n",
    "       \n",
    "        assert self.levels != [], \"Model is empty\"\n",
    "        assert self.levels[-1], \"Model has wrong output\"\n",
    "        \n",
    "        print(self.name, \"is fitting...\")\n",
    "        \n",
    "        level_output = X_train\n",
    "        for level in tqdm(self.levels):\n",
    "            for model in level:\n",
    "                model.fit(level_output, y_train)\n",
    "            \n",
    "            level_output = np.concatenate([\n",
    "                model.predict(level_output).reshape(-1, 1) for model in level\n",
    "            ], axis=1)\n",
    "\n",
    "        print(self.name, \"finished fitting\")"
   ]
  },
  {
   "cell_type": "code",
   "execution_count": 75,
   "metadata": {
    "scrolled": true
   },
   "outputs": [
    {
     "name": "stdout",
     "output_type": "stream",
     "text": [
      "Stacking Machine is fitting...\n"
     ]
    },
    {
     "name": "stderr",
     "output_type": "stream",
     "text": [
      "100%|████████████████████████████████████████████| 3/3 [00:14<00:00,  4.74s/it]\n"
     ]
    },
    {
     "name": "stdout",
     "output_type": "stream",
     "text": [
      "Stacking Machine finished fitting\n",
      "Stacking Machine is predicting...\n"
     ]
    },
    {
     "name": "stderr",
     "output_type": "stream",
     "text": [
      "100%|████████████████████████████████████████████| 3/3 [00:06<00:00,  2.04s/it]\n"
     ]
    },
    {
     "name": "stdout",
     "output_type": "stream",
     "text": [
      "Stacking Machine finished predicting\n",
      "mse is 2.9252942461062728\n",
      "Time spent: 21.404297590255737\n"
     ]
    }
   ],
   "source": [
    "time_start = time()\n",
    "model = StackingModel(\"Stacking Machine\")\n",
    "model.append([LGBMRegressor(n_jobs=8), LGBMRegressor(n_jobs=8), LGBMRegressor(n_jobs=8)])\n",
    "model.append([LGBMRegressor(n_jobs=8), LGBMRegressor(n_jobs=8)])\n",
    "model.append([KNeighborsRegressor()])\n",
    "model.fit(X_train.loc[mask], y_train[mask])\n",
    "\n",
    "print(\"mse is\", mse(y_test, model.predict(X_test.fillna(0))))\n",
    "print(\"Time spent:\", time() - time_start)"
   ]
  },
  {
   "cell_type": "markdown",
   "metadata": {},
   "source": [
    "**Solvator-2000**"
   ]
  },
  {
   "cell_type": "code",
   "execution_count": 21,
   "metadata": {},
   "outputs": [],
   "source": [
    "n = 20000\n",
    "mask = np.random.choice(X_train.index, n, replace=False)"
   ]
  },
  {
   "cell_type": "code",
   "execution_count": 22,
   "metadata": {
    "scrolled": false
   },
   "outputs": [
    {
     "name": "stdout",
     "output_type": "stream",
     "text": [
      "Solvator-2000 is fitting...\n"
     ]
    },
    {
     "name": "stderr",
     "output_type": "stream",
     "text": [
      "\n",
      "  0%|                                                    | 0/3 [00:00<?, ?it/s]\n",
      " 33%|██████████████▋                             | 1/3 [00:12<00:25, 12.66s/it]\n",
      "100%|████████████████████████████████████████████| 3/3 [00:13<00:00,  4.34s/it]\n"
     ]
    },
    {
     "name": "stdout",
     "output_type": "stream",
     "text": [
      "Solvator-2000 finished fitting\n",
      "Solvator-2000 is predicting...\n"
     ]
    },
    {
     "name": "stderr",
     "output_type": "stream",
     "text": [
      "\n",
      "  0%|                                                    | 0/3 [00:00<?, ?it/s]\n",
      " 33%|██████████████▎                            | 1/3 [01:53<03:46, 113.23s/it]\n",
      "100%|████████████████████████████████████████████| 3/3 [01:53<00:00, 37.82s/it]\n"
     ]
    },
    {
     "name": "stdout",
     "output_type": "stream",
     "text": [
      "Solvator-2000 finished predicting\n",
      "mse is 2.0289469756902623\n",
      "Time spent: 126.90055966377258\n"
     ]
    }
   ],
   "source": [
    "time_start = time()\n",
    "\n",
    "# Model building\n",
    "bag1 = BaggingModel([('lgbm', {'n_estimators': 128, 'n_jobs': 8, 'random_state': 42, 'num_leaves': 64}), \n",
    "                       ('lgbm', {'n_estimators': 64, 'n_jobs': 8, 'random_state': 42, 'num_leaves': 32}),\n",
    "                       ('lgbm', {'n_estimators': 64, 'n_jobs': 8, 'random_state': 42, 'num_leaves': 16})\n",
    "                     ], 'LGBM_Bagging', False)\n",
    "bag2 = BaggingModel([('knn', {'leaf_size': 32, 'n_neighbors': 5, 'n_jobs': 8}), \n",
    "                       ('knn', {'leaf_size': 32, 'n_neighbors': 10, 'n_jobs': 8}), \n",
    "                       ('knn', {'leaf_size': 64, 'n_neighbors': 5, 'n_jobs': 8})\n",
    "                     ], 'kNN_Bagging', False)\n",
    "model = StackingModel(\"Solvator-2000\")\n",
    "model.append([bag1, bag2])\n",
    "model.append([SGDRegressor(), RandomForestRegressor(n_estimators=64, n_jobs= 8, random_state=42)])\n",
    "model.append([LinearRegression()])\n",
    "\n",
    "# Model fit\n",
    "model.fit(X_train.loc[mask], y_train[mask])\n",
    "\n",
    "print(\"mse is\", mse(y_test, model.predict(X_test.fillna(0)).clip(0, 20)))\n",
    "print(\"Time spent:\", time() - time_start)"
   ]
  },
  {
   "cell_type": "markdown",
   "metadata": {},
   "source": [
    "For submission lgbm looks better because of it's balance with overfitting."
   ]
  },
  {
   "cell_type": "code",
   "execution_count": 8,
   "metadata": {},
   "outputs": [],
   "source": [
    "X_train_subm = data_full[data_full['date_block_num'] < 34].drop('target', axis=1)\n",
    "X_test_subm = data_full[data_full['date_block_num'] == 34].drop('target', axis=1)\n",
    "y_train_subm = data_full[data_full['date_block_num'] < 34]['target']\n",
    "\n",
    "X_train_subm['date_block_num'] %= 12\n",
    "X_test_subm['date_block_num'] %= 12"
   ]
  },
  {
   "cell_type": "code",
   "execution_count": 9,
   "metadata": {},
   "outputs": [],
   "source": [
    "n = 40000\n",
    "mask = np.random.choice(X_train_subm.index, n, replace=False)"
   ]
  },
  {
   "cell_type": "code",
   "execution_count": 10,
   "metadata": {},
   "outputs": [
    {
     "name": "stdout",
     "output_type": "stream",
     "text": [
      "Time spent: 9.335937738418579\n"
     ]
    }
   ],
   "source": [
    "time_start = time()\n",
    "lgbm = LGBMRegressor(n_estimators=100, n_jobs=8)\n",
    "lgbm.fit(X_train_subm.loc[mask], y_train_subm[mask])\n",
    "\n",
    "print(\"Time spent:\", time() - time_start)"
   ]
  },
  {
   "cell_type": "code",
   "execution_count": 31,
   "metadata": {
    "scrolled": false
   },
   "outputs": [],
   "source": [
    "submision_sample['item_cnt_month'] = lgbm.predict(X_test_subm)\n",
    "submision_sample['item_cnt_month'] = submision_sample['item_cnt_month'].apply(int).clip(0, 20).astype('float32')"
   ]
  },
  {
   "cell_type": "code",
   "execution_count": 32,
   "metadata": {},
   "outputs": [],
   "source": [
    "submision_sample.to_csv('./results/submission_lgbm.csv', index=False)"
   ]
  }
 ],
 "metadata": {
  "kernelspec": {
   "display_name": "Python 3",
   "language": "python",
   "name": "python3"
  },
  "language_info": {
   "codemirror_mode": {
    "name": "ipython",
    "version": 3
   },
   "file_extension": ".py",
   "mimetype": "text/x-python",
   "name": "python",
   "nbconvert_exporter": "python",
   "pygments_lexer": "ipython3",
   "version": "3.7.4"
  }
 },
 "nbformat": 4,
 "nbformat_minor": 2
}
