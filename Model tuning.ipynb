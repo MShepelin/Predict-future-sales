{
 "cells": [
  {
   "cell_type": "markdown",
   "metadata": {},
   "source": [
    "# Model tuning\n",
    "- Interactive tuning\n",
    "- Parameters selection\n",
    "- Clear solution pipeline"
   ]
  },
  {
   "cell_type": "code",
   "execution_count": 1,
   "metadata": {},
   "outputs": [],
   "source": [
    "# Modules import\n",
    "import pandas as pd\n",
    "import numpy as np\n",
    "import matplotlib.pyplot as plt\n",
    "import seaborn as sns\n",
    "\n",
    "from sklearn.model_selection import KFold\n",
    "from sklearn import linear_model, metrics, preprocessing\n",
    "\n",
    "from time import time\n",
    "\n",
    "# Settings\n",
    "pd.set_option('display.max_rows', 200)\n",
    "pd.set_option('display.max_columns', 100)\n",
    "sns.set(style=\"white\")"
   ]
  },
  {
   "cell_type": "code",
   "execution_count": 2,
   "metadata": {},
   "outputs": [],
   "source": [
    "data_validation = pd.read_csv('./results/dataset_for_validation.csv').drop('index', axis=1)\n",
    "data_full = pd.read_csv('./results/dataset_for_test.csv').drop('category_0', axis=1)\n",
    "val_answers = pd.read_csv('./results/validation_answers.csv', header=None)"
   ]
  },
  {
   "cell_type": "code",
   "execution_count": 3,
   "metadata": {},
   "outputs": [],
   "source": [
    "from sklearn.ensemble import RandomForestRegressor\n",
    "from sklearn.linear_model import LinearRegression, SGDRegressor, Ridge\n",
    "from lightgbm import LGBMRegressor\n",
    "from xgboost import XGBRegressor\n",
    "\n",
    "from sklearn.metrics import mean_squared_error as mse"
   ]
  },
  {
   "cell_type": "markdown",
   "metadata": {},
   "source": [
    "Few words should be said about unpacking our data. To separate our test and train data we use \"date_block_num\" value, but then we should make a feature out of it by making a number of month out of it."
   ]
  },
  {
   "cell_type": "markdown",
   "metadata": {},
   "source": [
    "Validation, methods comparison."
   ]
  },
  {
   "cell_type": "code",
   "execution_count": 4,
   "metadata": {},
   "outputs": [],
   "source": [
    "X_train = data_validation[data_validation['date_block_num'] < 33].drop('target', axis=1)\n",
    "X_test = data_validation[data_validation['date_block_num'] == 33].drop('target', axis=1)\n",
    "y_train = data_validation[data_validation['date_block_num'] < 33]['target']\n",
    "y_test = val_answers[1]\n",
    "\n",
    "X_train['date_block_num'] %= 12\n",
    "X_test['date_block_num'] %= 12"
   ]
  },
  {
   "cell_type": "markdown",
   "metadata": {},
   "source": [
    "**Basic lgbm**. It was vey helpful to use it to find out if dataset was built correctly without leakages and with needed features."
   ]
  },
  {
   "cell_type": "code",
   "execution_count": 5,
   "metadata": {
    "scrolled": true
   },
   "outputs": [
    {
     "name": "stdout",
     "output_type": "stream",
     "text": [
      "mse is 1.5237335160776573\n",
      "Time spent: 0.8008608818054199\n"
     ]
    }
   ],
   "source": [
    "time_start = time()\n",
    "random_forest = LGBMRegressor(n_estimators=100, n_jobs=2)\n",
    "random_forest.fit(X_train, y_train)\n",
    "\n",
    "print(\"mse is\", mse(y_test, random_forest.predict(X_test.fillna(0))))\n",
    "print(\"Time spent:\", time() - time_start)"
   ]
  },
  {
   "cell_type": "markdown",
   "metadata": {},
   "source": [
    "Submission"
   ]
  },
  {
   "cell_type": "code",
   "execution_count": 6,
   "metadata": {},
   "outputs": [],
   "source": [
    "X_train_subm = data_full[data_full['date_block_num'] < 34].drop('target', axis=1)\n",
    "X_test_subm = data_full[data_full['date_block_num'] == 34].drop('target', axis=1)\n",
    "y_train_subm = data_full[data_full['date_block_num'] < 34]['target']\n",
    "y_test_subm = data_full[data_full['date_block_num'] == 34]['target']\n",
    "\n",
    "X_train_subm['date_block_num'] %= 12\n",
    "X_test_subm['date_block_num'] %= 12"
   ]
  },
  {
   "cell_type": "code",
   "execution_count": 7,
   "metadata": {},
   "outputs": [
    {
     "name": "stdout",
     "output_type": "stream",
     "text": [
      "Time spent: 0.42386698722839355\n"
     ]
    }
   ],
   "source": [
    "time_start = time()\n",
    "random_forest = LGBMRegressor(n_estimators=50, n_jobs=2)\n",
    "random_forest.fit(X_train_subm, y_train_subm)\n",
    "\n",
    "print(\"Time spent:\", time() - time_start)"
   ]
  },
  {
   "cell_type": "code",
   "execution_count": 8,
   "metadata": {
    "scrolled": false
   },
   "outputs": [],
   "source": [
    "submm = pd.read_csv('./readonly/sample_submission.csv')\n",
    "submm['item_cnt_month'] = random_forest.predict(X_test_subm)\n",
    "submm.to_csv('./results/sample_submission.csv', index=False)"
   ]
  }
 ],
 "metadata": {
  "kernelspec": {
   "display_name": "Python 3",
   "language": "python",
   "name": "python3"
  },
  "language_info": {
   "codemirror_mode": {
    "name": "ipython",
    "version": 3
   },
   "file_extension": ".py",
   "mimetype": "text/x-python",
   "name": "python",
   "nbconvert_exporter": "python",
   "pygments_lexer": "ipython3",
   "version": "3.7.4"
  }
 },
 "nbformat": 4,
 "nbformat_minor": 2
}
