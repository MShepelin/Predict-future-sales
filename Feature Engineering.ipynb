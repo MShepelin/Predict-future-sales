{
 "cells": [
  {
   "cell_type": "markdown",
   "metadata": {},
   "source": [
    "# Feature Engineering\n",
    "- run once to generate dataset\n",
    "- no comments and experiments, just debugging"
   ]
  },
  {
   "cell_type": "code",
   "execution_count": 1,
   "metadata": {},
   "outputs": [],
   "source": [
    "# Modules import\n",
    "from importlib import reload\n",
    "import time\n",
    "import pandas as pd\n",
    "import numpy as np\n",
    "\n",
    "# All special functions are written in support module\n",
    "import support"
   ]
  },
  {
   "cell_type": "code",
   "execution_count": 2,
   "metadata": {
    "scrolled": false
   },
   "outputs": [
    {
     "name": "stdout",
     "output_type": "stream",
     "text": [
      "Support Reloaded\n"
     ]
    }
   ],
   "source": [
    "reload(support)\n",
    "print('Support Reloaded')"
   ]
  },
  {
   "cell_type": "code",
   "execution_count": 3,
   "metadata": {},
   "outputs": [],
   "source": [
    "# Import data (we will immideatly merge some informaton together)\n",
    "items              = pd.read_csv('./readonly/items.csv').set_index('item_id')\n",
    "dataset            = pd.read_csv('./readonly/sales_train.csv')\n",
    "test_dataset       = pd.read_csv('./readonly/test.csv').drop('ID', axis=1)\n",
    "item_categories    = pd.read_csv('./readonly/item_categories.csv').set_index('item_category_id')\n",
    "shops              = pd.read_csv('./readonly/shops.csv').set_index('shop_id')"
   ]
  },
  {
   "cell_type": "code",
   "execution_count": 4,
   "metadata": {},
   "outputs": [],
   "source": [
    "dataset['item_price'] = dataset['item_price'].astype('float32')\n",
    "\n",
    "for i in ['shop_id', 'item_id', 'date_block_num', 'item_cnt_day']:\n",
    "    dataset[i] = dataset[i].astype('int32')"
   ]
  },
  {
   "cell_type": "code",
   "execution_count": 5,
   "metadata": {
    "scrolled": false
   },
   "outputs": [
    {
     "name": "stderr",
     "output_type": "stream",
     "text": [
      "c:\\users\\shepe\\python\\lib\\site-packages\\pandas\\core\\frame.py:4117: SettingWithCopyWarning: \n",
      "A value is trying to be set on a copy of a slice from a DataFrame\n",
      "\n",
      "See the caveats in the documentation: http://pandas.pydata.org/pandas-docs/stable/user_guide/indexing.html#returning-a-view-versus-a-copy\n",
      "  errors=errors,\n"
     ]
    },
    {
     "name": "stdout",
     "output_type": "stream",
     "text": [
      "Records are clear...\n",
      "Zero sales generated...\n",
      "Records collected by month...\n"
     ]
    },
    {
     "name": "stderr",
     "output_type": "stream",
     "text": [
      "c:\\users\\shepe\\python\\lib\\site-packages\\ipykernel_launcher.py:9: FutureWarning: The signature of `Series.to_csv` was aligned to that of `DataFrame.to_csv`, and argument 'header' will change its default value from False to True: please pass an explicit value to suppress this warning.\n",
      "  if __name__ == '__main__':\n"
     ]
    },
    {
     "name": "stdout",
     "output_type": "stream",
     "text": [
      "Mean prices are found...\n"
     ]
    },
    {
     "name": "stderr",
     "output_type": "stream",
     "text": [
      "100%|██████████████████████████████████████████| 10/10 [00:33<00:00,  3.36s/it]\n"
     ]
    },
    {
     "name": "stdout",
     "output_type": "stream",
     "text": [
      "Time-based features added...\n",
      "Categories' features added...\n",
      "Number of sales added...\n",
      "Numerical features added...\n",
      "Zero sales generated...\n",
      "Records collected by month...\n",
      "Mean prices are found...\n"
     ]
    },
    {
     "name": "stderr",
     "output_type": "stream",
     "text": [
      "100%|██████████████████████████████████████████| 10/10 [00:31<00:00,  3.14s/it]\n"
     ]
    },
    {
     "name": "stdout",
     "output_type": "stream",
     "text": [
      "Time-based features added...\n",
      "Categories' features added...\n",
      "Number of sales added...\n",
      "Numerical features added...\n"
     ]
    }
   ],
   "source": [
    "# Clear data\n",
    "support.clear_records(dataset, test_dataset, shops, inplace=True)\n",
    "\n",
    "# Group date num blocks\n",
    "data_grouped = support.group_records(dataset)\n",
    "\n",
    "# Choose validation block\n",
    "validation_answers = data_grouped[data_grouped['date_block_num'] == 33]['target']\n",
    "validation_answers.to_csv('./results/validation_answers.csv', index_label='index')\n",
    "\n",
    "validation_test = data_grouped[data_grouped['date_block_num'] == 33].drop(['revenue', 'date_block_num'], axis=1).copy()\n",
    "\n",
    "validation_dataset = dataset[dataset['date_block_num'] < 33].copy()\n",
    "\n",
    "# Part for test\n",
    "dataset = dataset.join(items[['item_category_id']], on='item_id')\n",
    "\n",
    "item_mean_prices, shop_mean_prices, cat_mean_prices = support.get_prices_means(dataset)\n",
    "\n",
    "full, train_mask = support.union(data_grouped, test_dataset)\n",
    "\n",
    "full = full.join(items[['item_category_id']], on='item_id')\n",
    "full = support.validation_preparation(full, train_mask, 10, \n",
    "                    [item_mean_prices, shop_mean_prices, cat_mean_prices])\n",
    "\n",
    "full.to_csv('./results/dataset_for_test.csv', index=False)\n",
    "\n",
    "\n",
    "# Part for validation\n",
    "data_grouped = support.group_records(validation_dataset)\n",
    "\n",
    "validation_dataset = validation_dataset.join(items[['item_category_id']], on='item_id')\n",
    "\n",
    "item_mean_prices, shop_mean_prices, cat_mean_prices = support.get_prices_means(validation_dataset)\n",
    "\n",
    "full, train_mask = support.union(data_grouped, validation_test)\n",
    "\n",
    "full = full.join(items[['item_category_id']], on='item_id')\n",
    "full = support.validation_preparation(full, train_mask, 10, \n",
    "                    [item_mean_prices, shop_mean_prices, cat_mean_prices])\n",
    "\n",
    "full.to_csv('./results/dataset_for_validation.csv', index_label='index')"
   ]
  }
 ],
 "metadata": {
  "kernelspec": {
   "display_name": "Python 3",
   "language": "python",
   "name": "python3"
  },
  "language_info": {
   "codemirror_mode": {
    "name": "ipython",
    "version": 3
   },
   "file_extension": ".py",
   "mimetype": "text/x-python",
   "name": "python",
   "nbconvert_exporter": "python",
   "pygments_lexer": "ipython3",
   "version": "3.7.4"
  }
 },
 "nbformat": 4,
 "nbformat_minor": 2
}
