{
 "cells": [
  {
   "cell_type": "markdown",
   "metadata": {},
   "source": [
    "# Feature Engineering\n",
    "- code something to generate dataset for model to work\n",
    "- both for validation and final test"
   ]
  },
  {
   "cell_type": "code",
   "execution_count": 29,
   "metadata": {},
   "outputs": [],
   "source": [
    "# Modules import\n",
    "from importlib import reload\n",
    "import time\n",
    "import pandas as pd\n",
    "import numpy as np\n",
    "\n",
    "# All special functions are written in support module\n",
    "import support\n",
    "\n",
    "# Settings\n",
    "pd.set_option('display.max_rows', 200)\n",
    "pd.set_option('display.max_columns', 100)"
   ]
  },
  {
   "cell_type": "code",
   "execution_count": 14,
   "metadata": {
    "scrolled": false
   },
   "outputs": [
    {
     "name": "stdout",
     "output_type": "stream",
     "text": [
      "Support Reloaded\n"
     ]
    }
   ],
   "source": [
    "reload(support)\n",
    "print('Support Reloaded')"
   ]
  },
  {
   "cell_type": "code",
   "execution_count": 36,
   "metadata": {},
   "outputs": [],
   "source": [
    "# Import data (we will immideatly merge some informaton together)\n",
    "items              = pd.read_csv('./readonly/items.csv').set_index('item_id')\n",
    "dataset            = pd.read_csv('./readonly/sales_train.csv')\n",
    "test_dataset       = pd.read_csv('./readonly/test.csv').drop('ID', axis=1)\n",
    "item_categories    = pd.read_csv('./readonly/item_categories.csv').set_index('item_category_id')\n",
    "shops              = pd.read_csv('./readonly/shops.csv').set_index('shop_id')"
   ]
  },
  {
   "cell_type": "markdown",
   "metadata": {},
   "source": [
    "Our features:\n",
    "- One hot encodings for items' categories\n",
    "- Target mean encodings by categorical values on whole train data\n",
    "- For each month we calculate categories' frequences and target mean encodings (also with respect to categories' values) to use them as sales' story (length is 12 months). With the same idea we consider number of different items sold in previous months for the shop in a record and target value in previous months for pair (shop_id, item_id).\n",
    "- For historical revenue and target values we also calculate std and number of zero/nonzero sales\n",
    "- For some of previosly calculated features we also calculate polynomial values (square and sqruare root)\n",
    "\n",
    "P.S.\\\n",
    "Essential part is to drop all values, which contained leakages to the target data for each month."
   ]
  },
  {
   "cell_type": "code",
   "execution_count": 4,
   "metadata": {
    "scrolled": false
   },
   "outputs": [
    {
     "name": "stdout",
     "output_type": "stream",
     "text": [
      "Records are clear...\n",
      "Generating zero sales...\n",
      "Zero sales generated...\n",
      "Records collected by month...\n"
     ]
    },
    {
     "name": "stderr",
     "output_type": "stream",
     "text": [
      "c:\\users\\shepe\\python\\lib\\site-packages\\ipykernel_launcher.py:8: FutureWarning: The signature of `Series.to_csv` was aligned to that of `DataFrame.to_csv`, and argument 'header' will change its default value from False to True: please pass an explicit value to suppress this warning.\n",
      "  \n"
     ]
    },
    {
     "name": "stdout",
     "output_type": "stream",
     "text": [
      "Mean prices are found...\n",
      "Calculating categories' features...\n",
      "Categories' features added...\n",
      "Calculating time-based features...\n"
     ]
    },
    {
     "name": "stderr",
     "output_type": "stream",
     "text": [
      "100%|██████████████████████████████████████████| 10/10 [00:06<00:00,  1.62it/s]\n"
     ]
    },
    {
     "name": "stdout",
     "output_type": "stream",
     "text": [
      "Time-based features added...\n",
      "Calculating number of sales...\n",
      "Number of sales added...\n",
      "Calculating numerical features...\n",
      "Numerical features added...\n",
      "Mean prices are found...\n",
      "Calculating categories' features...\n",
      "Categories' features added...\n",
      "Calculating time-based features...\n"
     ]
    },
    {
     "name": "stderr",
     "output_type": "stream",
     "text": [
      "100%|██████████████████████████████████████████| 12/12 [00:00<00:00, 15.43it/s]\n"
     ]
    },
    {
     "name": "stdout",
     "output_type": "stream",
     "text": [
      "Time-based features added...\n",
      "Calculating number of sales...\n",
      "Number of sales added...\n",
      "Calculating numerical features...\n",
      "Numerical features added...\n"
     ]
    }
   ],
   "source": [
    "# Clear data\n",
    "dataset = support.clear_records(dataset, test_dataset, shops, item_categories, items)\n",
    "\n",
    "# Group date num blocks\n",
    "data_grouped = support.group_records(dataset)\n",
    "\n",
    "validation_answers = data_grouped[data_grouped['date_block_num'] == 33]['target']\n",
    "validation_answers.to_csv('./results/validation_answers.csv', index_label='index')\n",
    "\n",
    "\n",
    "# Choose validation block\n",
    "validation_dataset = dataset[dataset['date_block_num'] < 33].copy()\n",
    "validation_test = data_grouped[data_grouped['date_block_num'] == 33].drop(['revenue', 'date_block_num'], axis=1).copy()\n",
    "\n",
    "\n",
    "# Part for test\n",
    "item_mean_prices, shop_mean_prices, cat_mean_prices = support.get_prices_means(dataset)\n",
    "\n",
    "full, train_mask = support.union(data_grouped, test_dataset)\n",
    "\n",
    "full = full.join(items[['item_category_id']], on='item_id')\n",
    "full = support.validation_preparation(full, train_mask, 10, \n",
    "                                      [item_mean_prices, shop_mean_prices, cat_mean_prices], join=False)\n",
    "full.to_csv('./results/dataset_for_test.csv', index=False)\n",
    "\n",
    "\n",
    "# Part for validation\n",
    "data_grouped = data_grouped[data_grouped['date_block_num'] < 33]\n",
    "\n",
    "item_mean_prices, shop_mean_prices, cat_mean_prices = support.get_prices_means(validation_dataset)\n",
    "\n",
    "full, train_mask = support.union(data_grouped, validation_test)\n",
    "\n",
    "full = full.join(items[['item_category_id']], on='item_id')\n",
    "full = support.validation_preparation(full, train_mask, 12, [item_mean_prices, shop_mean_prices, cat_mean_prices], join=False)\n",
    "\n",
    "full.to_csv('./results/dataset_for_validation.csv', index_label='index')"
   ]
  }
 ],
 "metadata": {
  "kernelspec": {
   "display_name": "Python 3",
   "language": "python",
   "name": "python3"
  },
  "language_info": {
   "codemirror_mode": {
    "name": "ipython",
    "version": 3
   },
   "file_extension": ".py",
   "mimetype": "text/x-python",
   "name": "python",
   "nbconvert_exporter": "python",
   "pygments_lexer": "ipython3",
   "version": "3.7.4"
  }
 },
 "nbformat": 4,
 "nbformat_minor": 2
}
